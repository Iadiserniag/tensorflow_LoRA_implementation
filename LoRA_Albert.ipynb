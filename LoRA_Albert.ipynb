{
  "cells": [
    {
      "cell_type": "markdown",
      "metadata": {
        "id": "BwfXT98e5hQc"
      },
      "source": [
        "# Advanced transfer learning"
      ]
    },
    {
      "cell_type": "code",
      "execution_count": 1,
      "metadata": {
        "id": "5V6Ph3UT44Xo"
      },
      "outputs": [],
      "source": [
        "### Import modules\n",
        "# Data\n",
        "from google.colab import files\n",
        "import os\n",
        "import json\n",
        "import pandas as pd\n",
        "from sklearn.model_selection import train_test_split\n",
        "from collections import Counter\n",
        "# Models\n",
        "import tensorflow as tf\n",
        "import numpy as np\n",
        "from transformers import AlbertTokenizer, TFAutoModelForSequenceClassification\n",
        "import transformers\n",
        "import keras\n",
        "# Plots\n",
        "import matplotlib.pyplot as plt\n",
        "from sklearn.metrics import confusion_matrix\n",
        "import seaborn as sns"
      ]
    },
    {
      "cell_type": "code",
      "execution_count": 2,
      "metadata": {
        "id": "GkYGd_WY_2nq"
      },
      "outputs": [],
      "source": [
        "### Set seed to ensure reproducibility\n",
        "tf.keras.utils.set_random_seed(1234)"
      ]
    },
    {
      "cell_type": "markdown",
      "metadata": {
        "id": "SE7pCfZK2G5M"
      },
      "source": [
        "### Warmup: Data loading"
      ]
    },
    {
      "cell_type": "markdown",
      "metadata": {
        "id": "fzThDtr4VJ5x"
      },
      "source": [
        "✍ **DESCRIPTION OF THE CODE**\n",
        "\n",
        "Link to the dataset (Kaggle): https://www.kaggle.com/datasets/rmisra/news-headlines-dataset-for-sarcasm-detection\n",
        "\n",
        "The **News Headlines Dataset For Sarcasm Detection** is composed of 28619 rows. Each row has a text and a label. Each text, according to the label, can either be *sarcastic* or *non-sarcastic*.\n",
        "\n",
        "The headlines (instead of being collected from Twitter and manually labelled) were extracted from two known english news websites: *TheOnion* and *HuffPost*. *TheOnion* aims at producing sarcastic versions of current events; all the headlines were collected from News in Brief and in Photos categories (which are sarcastic).\n",
        "The real (and non-sarcastic) news headlines were collected from *HuffPost*.\n",
        "\n",
        "We are dealing with a **binary text classification task**."
      ]
    },
    {
      "cell_type": "code",
      "execution_count": 2,
      "metadata": {
        "colab": {
          "base_uri": "https://localhost:8080/",
          "height": 163
        },
        "id": "FpQj4F8n20LI",
        "outputId": "e7a99c94-bb8f-43a4-8a71-b55a5fe08c13"
      },
      "outputs": [
        {
          "data": {
            "text/html": [
              "\n",
              "     <input type=\"file\" id=\"files-0291eda6-8ae8-4e39-b7dc-cec4bf62580c\" name=\"files[]\" multiple disabled\n",
              "        style=\"border:none\" />\n",
              "     <output id=\"result-0291eda6-8ae8-4e39-b7dc-cec4bf62580c\">\n",
              "      Upload widget is only available when the cell has been executed in the\n",
              "      current browser session. Please rerun this cell to enable.\n",
              "      </output>\n",
              "      <script>// Copyright 2017 Google LLC\n",
              "//\n",
              "// Licensed under the Apache License, Version 2.0 (the \"License\");\n",
              "// you may not use this file except in compliance with the License.\n",
              "// You may obtain a copy of the License at\n",
              "//\n",
              "//      http://www.apache.org/licenses/LICENSE-2.0\n",
              "//\n",
              "// Unless required by applicable law or agreed to in writing, software\n",
              "// distributed under the License is distributed on an \"AS IS\" BASIS,\n",
              "// WITHOUT WARRANTIES OR CONDITIONS OF ANY KIND, either express or implied.\n",
              "// See the License for the specific language governing permissions and\n",
              "// limitations under the License.\n",
              "\n",
              "/**\n",
              " * @fileoverview Helpers for google.colab Python module.\n",
              " */\n",
              "(function(scope) {\n",
              "function span(text, styleAttributes = {}) {\n",
              "  const element = document.createElement('span');\n",
              "  element.textContent = text;\n",
              "  for (const key of Object.keys(styleAttributes)) {\n",
              "    element.style[key] = styleAttributes[key];\n",
              "  }\n",
              "  return element;\n",
              "}\n",
              "\n",
              "// Max number of bytes which will be uploaded at a time.\n",
              "const MAX_PAYLOAD_SIZE = 100 * 1024;\n",
              "\n",
              "function _uploadFiles(inputId, outputId) {\n",
              "  const steps = uploadFilesStep(inputId, outputId);\n",
              "  const outputElement = document.getElementById(outputId);\n",
              "  // Cache steps on the outputElement to make it available for the next call\n",
              "  // to uploadFilesContinue from Python.\n",
              "  outputElement.steps = steps;\n",
              "\n",
              "  return _uploadFilesContinue(outputId);\n",
              "}\n",
              "\n",
              "// This is roughly an async generator (not supported in the browser yet),\n",
              "// where there are multiple asynchronous steps and the Python side is going\n",
              "// to poll for completion of each step.\n",
              "// This uses a Promise to block the python side on completion of each step,\n",
              "// then passes the result of the previous step as the input to the next step.\n",
              "function _uploadFilesContinue(outputId) {\n",
              "  const outputElement = document.getElementById(outputId);\n",
              "  const steps = outputElement.steps;\n",
              "\n",
              "  const next = steps.next(outputElement.lastPromiseValue);\n",
              "  return Promise.resolve(next.value.promise).then((value) => {\n",
              "    // Cache the last promise value to make it available to the next\n",
              "    // step of the generator.\n",
              "    outputElement.lastPromiseValue = value;\n",
              "    return next.value.response;\n",
              "  });\n",
              "}\n",
              "\n",
              "/**\n",
              " * Generator function which is called between each async step of the upload\n",
              " * process.\n",
              " * @param {string} inputId Element ID of the input file picker element.\n",
              " * @param {string} outputId Element ID of the output display.\n",
              " * @return {!Iterable<!Object>} Iterable of next steps.\n",
              " */\n",
              "function* uploadFilesStep(inputId, outputId) {\n",
              "  const inputElement = document.getElementById(inputId);\n",
              "  inputElement.disabled = false;\n",
              "\n",
              "  const outputElement = document.getElementById(outputId);\n",
              "  outputElement.innerHTML = '';\n",
              "\n",
              "  const pickedPromise = new Promise((resolve) => {\n",
              "    inputElement.addEventListener('change', (e) => {\n",
              "      resolve(e.target.files);\n",
              "    });\n",
              "  });\n",
              "\n",
              "  const cancel = document.createElement('button');\n",
              "  inputElement.parentElement.appendChild(cancel);\n",
              "  cancel.textContent = 'Cancel upload';\n",
              "  const cancelPromise = new Promise((resolve) => {\n",
              "    cancel.onclick = () => {\n",
              "      resolve(null);\n",
              "    };\n",
              "  });\n",
              "\n",
              "  // Wait for the user to pick the files.\n",
              "  const files = yield {\n",
              "    promise: Promise.race([pickedPromise, cancelPromise]),\n",
              "    response: {\n",
              "      action: 'starting',\n",
              "    }\n",
              "  };\n",
              "\n",
              "  cancel.remove();\n",
              "\n",
              "  // Disable the input element since further picks are not allowed.\n",
              "  inputElement.disabled = true;\n",
              "\n",
              "  if (!files) {\n",
              "    return {\n",
              "      response: {\n",
              "        action: 'complete',\n",
              "      }\n",
              "    };\n",
              "  }\n",
              "\n",
              "  for (const file of files) {\n",
              "    const li = document.createElement('li');\n",
              "    li.append(span(file.name, {fontWeight: 'bold'}));\n",
              "    li.append(span(\n",
              "        `(${file.type || 'n/a'}) - ${file.size} bytes, ` +\n",
              "        `last modified: ${\n",
              "            file.lastModifiedDate ? file.lastModifiedDate.toLocaleDateString() :\n",
              "                                    'n/a'} - `));\n",
              "    const percent = span('0% done');\n",
              "    li.appendChild(percent);\n",
              "\n",
              "    outputElement.appendChild(li);\n",
              "\n",
              "    const fileDataPromise = new Promise((resolve) => {\n",
              "      const reader = new FileReader();\n",
              "      reader.onload = (e) => {\n",
              "        resolve(e.target.result);\n",
              "      };\n",
              "      reader.readAsArrayBuffer(file);\n",
              "    });\n",
              "    // Wait for the data to be ready.\n",
              "    let fileData = yield {\n",
              "      promise: fileDataPromise,\n",
              "      response: {\n",
              "        action: 'continue',\n",
              "      }\n",
              "    };\n",
              "\n",
              "    // Use a chunked sending to avoid message size limits. See b/62115660.\n",
              "    let position = 0;\n",
              "    do {\n",
              "      const length = Math.min(fileData.byteLength - position, MAX_PAYLOAD_SIZE);\n",
              "      const chunk = new Uint8Array(fileData, position, length);\n",
              "      position += length;\n",
              "\n",
              "      const base64 = btoa(String.fromCharCode.apply(null, chunk));\n",
              "      yield {\n",
              "        response: {\n",
              "          action: 'append',\n",
              "          file: file.name,\n",
              "          data: base64,\n",
              "        },\n",
              "      };\n",
              "\n",
              "      let percentDone = fileData.byteLength === 0 ?\n",
              "          100 :\n",
              "          Math.round((position / fileData.byteLength) * 100);\n",
              "      percent.textContent = `${percentDone}% done`;\n",
              "\n",
              "    } while (position < fileData.byteLength);\n",
              "  }\n",
              "\n",
              "  // All done.\n",
              "  yield {\n",
              "    response: {\n",
              "      action: 'complete',\n",
              "    }\n",
              "  };\n",
              "}\n",
              "\n",
              "scope.google = scope.google || {};\n",
              "scope.google.colab = scope.google.colab || {};\n",
              "scope.google.colab._files = {\n",
              "  _uploadFiles,\n",
              "  _uploadFilesContinue,\n",
              "};\n",
              "})(self);\n",
              "</script> "
            ],
            "text/plain": [
              "<IPython.core.display.HTML object>"
            ]
          },
          "metadata": {},
          "output_type": "display_data"
        },
        {
          "name": "stdout",
          "output_type": "stream",
          "text": [
            "Saving kaggle.json to kaggle.json\n",
            "Dataset URL: https://www.kaggle.com/datasets/rmisra/news-headlines-dataset-for-sarcasm-detection\n",
            "License(s): Attribution 4.0 International (CC BY 4.0)\n",
            "Downloading news-headlines-dataset-for-sarcasm-detection.zip to /content\n",
            "100% 3.30M/3.30M [00:01<00:00, 3.53MB/s]\n",
            "100% 3.30M/3.30M [00:01<00:00, 2.64MB/s]\n"
          ]
        }
      ],
      "source": [
        "### Load data directly from kaggle and unzip\n",
        "uploaded = files.upload()\n",
        "os.environ['KAGGLE_CONFIG_DIR'] = \"/content\"\n",
        "!chmod 600 /content/kaggle.json\n",
        "!kaggle datasets download -d rmisra/news-headlines-dataset-for-sarcasm-detection\n",
        "!unzip -q news-headlines-dataset-for-sarcasm-detection.zip"
      ]
    },
    {
      "cell_type": "code",
      "execution_count": 3,
      "metadata": {
        "colab": {
          "base_uri": "https://localhost:8080/"
        },
        "id": "7PXgmbWS5nZ5",
        "outputId": "3a41ee47-bb84-4e9b-cdf3-84564e8f30ed"
      },
      "outputs": [
        {
          "data": {
            "text/plain": [
              "Counter({1: 13634, 0: 14985})"
            ]
          },
          "execution_count": 3,
          "metadata": {},
          "output_type": "execute_result"
        }
      ],
      "source": [
        "### Read data and store as pandas dataframe\n",
        "data_list = []\n",
        "with open(\"Sarcasm_Headlines_Dataset_v2.json\", \"r\") as file:\n",
        "    for line in file:\n",
        "        data = json.loads(line)\n",
        "        data_list.append(data)\n",
        "\n",
        "df = pd.DataFrame(data_list)\n",
        "df.drop(['article_link'], axis=1, inplace=True) # do not need the article_link column\n",
        "y = df['is_sarcastic']\n",
        "Counter(y) # the dataset is balanced"
      ]
    },
    {
      "cell_type": "code",
      "execution_count": 4,
      "metadata": {
        "colab": {
          "base_uri": "https://localhost:8080/"
        },
        "id": "Z3Q4Qid1aLjN",
        "outputId": "9059e2b9-e688-4bdf-ad81-65802582f2b5"
      },
      "outputs": [
        {
          "name": "stdout",
          "output_type": "stream",
          "text": [
            "Sarcastic examples: ['thirtysomething scientists unveil doomsday clock of hair loss', 'inclement weather prevents liar from getting to work']\n",
            "Non sarcastic examples: ['dem rep. totally nails why congress is falling short on gender, racial equality', 'eat your veggies: 9 deliciously different recipes']\n"
          ]
        }
      ],
      "source": [
        "### Data examples\n",
        "sarcastic_df = df[df['is_sarcastic'] == 1]\n",
        "not_sarcastic_df = df[df['is_sarcastic'] == 0]\n",
        "\n",
        "print(f\"Sarcastic examples: {sarcastic_df.head(2)['headline'].to_list()}\")\n",
        "print(f\"Non sarcastic examples: {not_sarcastic_df.head(2)['headline'].to_list()}\")"
      ]
    },
    {
      "cell_type": "code",
      "execution_count": 5,
      "metadata": {
        "id": "Q2BXtyvY5-8Y"
      },
      "outputs": [],
      "source": [
        "texts = df[\"headline\"].tolist()\n",
        "labels = df[\"is_sarcastic\"].tolist()\n",
        "\n",
        "# Split dataset into train and test sets\n",
        "train_texts, test_texts, train_labels, test_labels = train_test_split(texts, labels, test_size=0.2, random_state=32, stratify=labels)\n",
        "\n",
        "# Split train set into train and validation sets\n",
        "train_texts, val_texts, train_labels, val_labels = train_test_split(train_texts, train_labels, test_size=0.1, random_state=32, stratify=train_labels)"
      ]
    },
    {
      "cell_type": "markdown",
      "metadata": {
        "id": "0i1Jr0mQ7lRY"
      },
      "source": [
        "### LoRA"
      ]
    },
    {
      "cell_type": "markdown",
      "metadata": {
        "id": "0aRC7GXJHW-M"
      },
      "source": [
        "✍ **DESCRIPTION OF THE CODE**\n",
        "\n",
        "**ALBERT model**\n",
        "\n",
        "For the final project I chose the [*ALBERT*](https://arxiv.org/pdf/1909.11942) *Tranformer large language model*, whose official paper entitled \"**Lite BERT** for self-supervised learning of language representations\" was published in 2020.\n",
        "\n",
        "The pre-trained [albert-base-v2](https://huggingface.co/albert/albert-base-v2) model was imported through the `transformers` library.\n",
        "* Uncased, as for all ALBERT models.\n",
        "* Just like BERT, it has an \"encoder-only\" transformer architecture with GELU non-linearities.\n",
        "* Repeating encoder layers: $\\text{L} = 12$\n",
        "* Embedding dimension: $\\text{E} = 128$\n",
        "* Hidden dimension: $\\text{H} = 768$\n",
        "* Number of attention heads: $\\text{h} = \\frac{\\text{H}}{64} = \\frac{768}{64} = 12$\n",
        "* 11M parameters.\n",
        "* Differently from BERT, token embedding is decoupled from the hidden dimension. In fact, $\\text{E} \\neq \\text{H}$.\n",
        "\n",
        "ALBERT is particular in that it shares its layers across its Transformer layers (cross-layer parameter sharing i.e., sharing parameters across multiple layers of the model, including the attention mechanisms). Therefore, all layers have the same weights (fewer parameters). Using repeating layers results in a small memory footprint, however, the computational cost remains similar to a BERT-like architecture with the same number of hidden layers as it has to iterate through the same number of (repeating) layers."
      ]
    },
    {
      "cell_type": "code",
      "execution_count": 6,
      "metadata": {
        "colab": {
          "base_uri": "https://localhost:8080/",
          "height": 553,
          "referenced_widgets": [
            "bb52702b514341f484d53a73adff0de5",
            "33c42244f82f47029b2ce2dbfadda887",
            "6a5b712918594ec7ae2cf6e97eb7551d",
            "2822bbc57b0b4748836148463e8e7dbc",
            "d5264ee60e4d49eaac7733a967f731a1",
            "7cdd23ca06e14a00ac654da6db294292",
            "1edd74295ab44299accce4523c4b04c0",
            "e0c47a5cb89c4391a3a5d65b9d22d065",
            "35d0af76dc2a4136bfb9ea63bccbd68d",
            "a2977c3af05a422797fbf8d905a33fc6",
            "20c33f4f8afc4f44819c35d518422ecb",
            "af6a420fdcd64a66ba2000162931b940",
            "b44f565a6c724519a29b812b8e7e1081",
            "60c34173b19a4ca8ba04159f488bf6ef",
            "9e9a7613aeaf463a818a5137c28510bb",
            "4e6db9b23886431b89ad873d69a09ba4",
            "4ddb5b744db0423697a9c587f96c2cf7",
            "507753d9a8584213950d64d5396173fe",
            "151017a29c4c4b029def6ca2d04eb679",
            "80b6a075aa9e4f9baa020fbbab574a02",
            "d37450542cb2466a934e9509c68d6859",
            "1c3586dff84e4ffc87c2945503b491ba"
          ]
        },
        "id": "1T5M_ujA56nX",
        "outputId": "24e7e5a7-7adf-4f8b-ac55-6468cdb4e450"
      },
      "outputs": [
        {
          "name": "stderr",
          "output_type": "stream",
          "text": [
            "/usr/local/lib/python3.10/dist-packages/huggingface_hub/utils/_token.py:89: UserWarning: \n",
            "The secret `HF_TOKEN` does not exist in your Colab secrets.\n",
            "To authenticate with the Hugging Face Hub, create a token in your settings tab (https://huggingface.co/settings/tokens), set it as secret in your Google Colab and restart your session.\n",
            "You will be able to reuse this secret in all of your notebooks.\n",
            "Please note that authentication is recommended but still optional to access public models or datasets.\n",
            "  warnings.warn(\n"
          ]
        },
        {
          "data": {
            "application/vnd.jupyter.widget-view+json": {
              "model_id": "bb52702b514341f484d53a73adff0de5",
              "version_major": 2,
              "version_minor": 0
            },
            "text/plain": [
              "config.json:   0%|          | 0.00/684 [00:00<?, ?B/s]"
            ]
          },
          "metadata": {},
          "output_type": "display_data"
        },
        {
          "data": {
            "application/vnd.jupyter.widget-view+json": {
              "model_id": "af6a420fdcd64a66ba2000162931b940",
              "version_major": 2,
              "version_minor": 0
            },
            "text/plain": [
              "model.safetensors:   0%|          | 0.00/47.4M [00:00<?, ?B/s]"
            ]
          },
          "metadata": {},
          "output_type": "display_data"
        },
        {
          "name": "stderr",
          "output_type": "stream",
          "text": [
            "All PyTorch model weights were used when initializing TFAlbertForSequenceClassification.\n",
            "\n",
            "Some weights or buffers of the TF 2.0 model TFAlbertForSequenceClassification were not initialized from the PyTorch model and are newly initialized: ['classifier.weight', 'classifier.bias']\n",
            "You should probably TRAIN this model on a down-stream task to be able to use it for predictions and inference.\n"
          ]
        },
        {
          "name": "stdout",
          "output_type": "stream",
          "text": [
            "Model: \"tf_albert_for_sequence_classification\"\n",
            "_________________________________________________________________\n",
            " Layer (type)                Output Shape              Param #   \n",
            "=================================================================\n",
            " albert (TFAlbertMainLayer)  multiple                  11683584  \n",
            "                                                                 \n",
            " dropout_4 (Dropout)         multiple                  0 (unused)\n",
            "                                                                 \n",
            " classifier (Dense)          multiple                  1538      \n",
            "                                                                 \n",
            "=================================================================\n",
            "Total params: 11685122 (44.58 MB)\n",
            "Trainable params: 1538 (6.01 KB)\n",
            "Non-trainable params: 11683584 (44.57 MB)\n",
            "_________________________________________________________________\n"
          ]
        }
      ],
      "source": [
        "# Source 1: https://github.com/huggingface/transformers/blob/main/src/transformers/models/albert/modeling_albert.py\n",
        "\n",
        "tf.keras.utils.set_random_seed(1234)\n",
        "base_model = TFAutoModelForSequenceClassification.from_pretrained('albert-base-v2', num_labels=2) # a classification head with 2 classes has been added\n",
        "\n",
        "for layer in base_model.layers:\n",
        "  if layer.name == 'classifier':\n",
        "    layer.trainable = True\n",
        "  else:\n",
        "    layer.trainable = False\n",
        "\n",
        "base_model.summary()"
      ]
    },
    {
      "cell_type": "markdown",
      "metadata": {
        "id": "d7s_wIf7Zh1U"
      },
      "source": [
        "#### **Prepare the data**"
      ]
    },
    {
      "cell_type": "markdown",
      "metadata": {
        "id": "vn6eIxK5D-fd"
      },
      "source": [
        "We cannot directly feed the texts to neural networks, but we must convert them to a numerical form so that our model can \"understand\" and interpret the data. We tokenize our texts with `AlbertTokenizer`, making sure that we return tensorflow tensors and ensuring that all sequences are the same length (through right-padding, therefore padding shorter sequences with zeros). Moreover, to accomodate the computational constraints of the GPU, we set a maximum length for our sequences during tokenization."
      ]
    },
    {
      "cell_type": "code",
      "execution_count": 7,
      "metadata": {
        "colab": {
          "base_uri": "https://localhost:8080/",
          "height": 145,
          "referenced_widgets": [
            "3091d2638ba746f1a974cf08920228ea",
            "7f07438b3bf145759381ec90a7099fb4",
            "705c2cf9633d43f0b0ca5e7833c50761",
            "7477dcb2ee3e4be7bd0572610b1e4729",
            "b21448663fa842b593c77b32e71d2e2f",
            "41e070f378f0475095836ebd45c1ba09",
            "bff1cbf4fd32438285339b3e749e5eec",
            "a65b0bd1e6464cfdb6a6d8ab8f2a1457",
            "772f249d587f4182a9cd261d015eeb82",
            "4e29246e17d04cb7be5630c950d1509f",
            "9adb36a9e95e4b16bd5fcf255ab3d31b",
            "019940d4578a419485b8d35f9df52f46",
            "565f1364f3324743a8f4e0ec70a4a59c",
            "573ce7eade80456ab5c15c3ba2bc584c",
            "9b7561270e1b4fbe84f9930fcb77af57",
            "e31acb7c99d34ecc99ad209be08430cf",
            "1b7ebce221734aa48247293ce241791f",
            "e79adcf4664e4542b7630a8615f0ef4e",
            "db6f12a123234bbdaa7d9f515652226e",
            "7c609412623b406f86981dbf3dfd3649",
            "d8438ae67c8c4448a157593e97d1a5e7",
            "7b7fe690217a413098fef085a28af285",
            "ff44aff592654e8b9e9a5bce151e5a91",
            "8519c84bfcb946ea825876cf5d9f53ce",
            "011dea374ce44a22a7fa8af82f4b86be",
            "a87a2b13cf70434cae4f65ab51a58b6d",
            "34820bb34d4b402c8744ee74dfef3736",
            "e092685d5f504a4786798b5b7bad3925",
            "9533e31cf5024449a58f6ced7c647b33",
            "06065bf4192e401a911e20d6695d892b",
            "7b2998da5b8649e09f9ec849a25b1e24",
            "a1a047bf38f44e0bb2b930a43f229516",
            "e43adf5dfc85473bba8846e50f244f37",
            "683e0225df8c439ca6cf5050f7622d87",
            "da43c8d61a2d4e3e8c9ac38077538c3f",
            "b1ee469d37b64460959b278ea1f64464",
            "e4e3d7dccc4b4c6589532d5bde698f61",
            "3db55e0475364874bd1f73a673d2fd1d",
            "997206400bf64649bc198af9a103a607",
            "c726a7255d284ff282075d15b7acfbff",
            "f1c95bbfa71d493f9281ce13b7560af2",
            "762d780cf4fe40f2b9c936830ba3ad42",
            "1aad5056d2f24f009b8112582bfc2337",
            "39cc3be155a846a49a4c0f6fc56a1117"
          ]
        },
        "id": "VPqNCAlhDsQa",
        "outputId": "49ab9c0e-f3b1-42ff-b61a-c1d2a91c39b0"
      },
      "outputs": [
        {
          "data": {
            "application/vnd.jupyter.widget-view+json": {
              "model_id": "3091d2638ba746f1a974cf08920228ea",
              "version_major": 2,
              "version_minor": 0
            },
            "text/plain": [
              "tokenizer_config.json:   0%|          | 0.00/25.0 [00:00<?, ?B/s]"
            ]
          },
          "metadata": {},
          "output_type": "display_data"
        },
        {
          "data": {
            "application/vnd.jupyter.widget-view+json": {
              "model_id": "019940d4578a419485b8d35f9df52f46",
              "version_major": 2,
              "version_minor": 0
            },
            "text/plain": [
              "spiece.model:   0%|          | 0.00/760k [00:00<?, ?B/s]"
            ]
          },
          "metadata": {},
          "output_type": "display_data"
        },
        {
          "data": {
            "application/vnd.jupyter.widget-view+json": {
              "model_id": "ff44aff592654e8b9e9a5bce151e5a91",
              "version_major": 2,
              "version_minor": 0
            },
            "text/plain": [
              "tokenizer_config.json:   0%|          | 0.00/25.0 [00:00<?, ?B/s]"
            ]
          },
          "metadata": {},
          "output_type": "display_data"
        },
        {
          "data": {
            "application/vnd.jupyter.widget-view+json": {
              "model_id": "683e0225df8c439ca6cf5050f7622d87",
              "version_major": 2,
              "version_minor": 0
            },
            "text/plain": [
              "tokenizer.json:   0%|          | 0.00/1.31M [00:00<?, ?B/s]"
            ]
          },
          "metadata": {},
          "output_type": "display_data"
        }
      ],
      "source": [
        "# Tokenize all texts (return Tensorflow tensors and make sure that all embeddings are the same length)\n",
        "# from raw strings to integer sequences (matching ALBERT models vocabulary and recognizing ALBERT special tokens)\n",
        "tokenizer = AlbertTokenizer.from_pretrained('albert-base-v2', force_download=True) # force_download=True to avoid deprecation warning\n",
        "train_encodings = tokenizer(train_texts, padding=True, return_tensors='tf', truncation=True, max_length=128)\n",
        "val_encodings = tokenizer(val_texts, padding=True, return_tensors='tf', truncation=True, max_length=128)\n",
        "test_encodings = tokenizer(test_texts, padding=True, return_tensors='tf', truncation=True, max_length=128)\n",
        "# Dictionary-like structure\n",
        "# input_ids: tokenID corresponding to the text\n",
        "# attention_mask: ignore padding tokens which we used to make the sequences the same length\n",
        "# token_type_ids: all zeros in our case as we have only single segments (just text classification task, no question answering or text generation)\n",
        "\n",
        "def create_dataset(encodings, labels):\n",
        "    return tf.data.Dataset.from_tensor_slices((dict(encodings), labels))\n",
        "\n",
        "# Convert labels to tensors\n",
        "train_labels = tf.convert_to_tensor(train_labels)\n",
        "val_labels = tf.convert_to_tensor(val_labels)\n",
        "test_labels = tf.convert_to_tensor(test_labels)\n",
        "\n",
        "# Create TensorFlow datasets\n",
        "train_dataset = create_dataset(train_encodings, train_labels)\n",
        "val_dataset = create_dataset(val_encodings, val_labels)\n",
        "test_dataset = create_dataset(test_encodings, test_labels)"
      ]
    },
    {
      "cell_type": "code",
      "execution_count": 8,
      "metadata": {
        "colab": {
          "base_uri": "https://localhost:8080/"
        },
        "id": "bjwqPZZ8ZHYj",
        "outputId": "169e1320-9c35-406f-df97-9b0d85de6dea"
      },
      "outputs": [
        {
          "name": "stdout",
          "output_type": "stream",
          "text": [
            "The number of training data points is 20605 with distribution Counter({0: 10789, 1: 9816})\n",
            "The number of validation data points is 2290 with distribution Counter({0: 1199, 1: 1091})\n",
            "The number of test data points is 5724 with distribution Counter({0: 2997, 1: 2727})\n"
          ]
        }
      ],
      "source": [
        "# Mantain the same distribution of labels using the stratify option in train_test_split\n",
        "print(f'The number of training data points is {len(train_labels)} with distribution {Counter(train_labels.numpy())}')\n",
        "print(f'The number of validation data points is {len(val_labels)} with distribution {Counter(val_labels.numpy())}')\n",
        "print(f'The number of test data points is {len(test_labels)} with distribution {Counter(test_labels.numpy())}')"
      ]
    },
    {
      "cell_type": "markdown",
      "metadata": {
        "id": "V1iCq1gUq415"
      },
      "source": [
        "#### **Train the classification head of `base_model`**"
      ]
    },
    {
      "cell_type": "markdown",
      "metadata": {
        "id": "CGkI1UvVsppJ"
      },
      "source": [
        "As the classification head weights [`classifier.weight`, `classifier.bias`] in the pre-trained `base_model` were newly initialzed, they are random and essentially hold no meaningful information. Therefore, they must be trained on our task before applying our advanced transfer learning method i.e., LoRA."
      ]
    },
    {
      "cell_type": "code",
      "execution_count": 9,
      "metadata": {
        "colab": {
          "base_uri": "https://localhost:8080/"
        },
        "id": "gvZmjxD9IYAo",
        "outputId": "edbef54f-7548-43a9-bde2-5c56be986318"
      },
      "outputs": [
        {
          "name": "stdout",
          "output_type": "stream",
          "text": [
            "Test Accuracy of base model before training the classification head: 0.5210\n",
            "Counter({0: 5699, 1: 25})\n"
          ]
        }
      ],
      "source": [
        "batch_size = 64\n",
        "predictions = base_model.predict(test_dataset.batch(batch_size), verbose=0)\n",
        "predicted_labels = tf.argmax(predictions.logits, axis=-1).numpy()\n",
        "accuracy = np.mean(predicted_labels == test_labels)\n",
        "print(f'Test Accuracy of base model before training the classification head: {accuracy:.4f}')\n",
        "print(Counter(predicted_labels)) # almost always predicts 'non-sarcastic'"
      ]
    },
    {
      "cell_type": "code",
      "execution_count": 11,
      "metadata": {
        "colab": {
          "base_uri": "https://localhost:8080/"
        },
        "id": "FVj_Eb9wrg-Q",
        "outputId": "b2534ddd-fdc8-43c8-a525-502c6aa1a8d3"
      },
      "outputs": [
        {
          "name": "stdout",
          "output_type": "stream",
          "text": [
            "Training: \n",
            "Epoch 1/5\n",
            "322/322 [==============================] - 239s 633ms/step - loss: 0.6271 - sparse_categorical_accuracy: 0.6472 - val_loss: 0.5932 - val_sparse_categorical_accuracy: 0.6830\n",
            "Epoch 2/5\n",
            "322/322 [==============================] - 194s 603ms/step - loss: 0.5899 - sparse_categorical_accuracy: 0.6896 - val_loss: 0.5624 - val_sparse_categorical_accuracy: 0.7127\n",
            "Epoch 3/5\n",
            "322/322 [==============================] - 194s 602ms/step - loss: 0.5809 - sparse_categorical_accuracy: 0.6960 - val_loss: 0.5429 - val_sparse_categorical_accuracy: 0.7297\n",
            "Epoch 4/5\n",
            "322/322 [==============================] - 194s 602ms/step - loss: 0.5747 - sparse_categorical_accuracy: 0.7012 - val_loss: 0.5538 - val_sparse_categorical_accuracy: 0.7148\n"
          ]
        }
      ],
      "source": [
        "tf.keras.utils.set_random_seed(1234)\n",
        "## Compile the model\n",
        "loss = tf.keras.losses.SparseCategoricalCrossentropy(from_logits=True)\n",
        "base_model.compile(loss=loss, metrics=[\"sparse_categorical_accuracy\"])\n",
        "early_stop = tf.keras.callbacks.EarlyStopping(monitor='val_loss', patience=1)\n",
        "num_epochs = 5\n",
        "\n",
        "## Train the model\n",
        "print('Training: ')\n",
        "history = base_model.fit(train_dataset.shuffle(100).batch(batch_size),\n",
        "                            epochs=num_epochs, verbose=1,\n",
        "                            validation_data=val_dataset.batch(batch_size),\n",
        "                            callbacks=[early_stop])"
      ]
    },
    {
      "cell_type": "code",
      "execution_count": 27,
      "metadata": {
        "id": "aiEj62L4Gh7K"
      },
      "outputs": [],
      "source": [
        "base_model.save_weights('base_model_weights.h5')"
      ]
    },
    {
      "cell_type": "markdown",
      "metadata": {
        "id": "OhE99DdKZk_s"
      },
      "source": [
        "#### **Build LoRA layers and define `lora_model`**"
      ]
    },
    {
      "cell_type": "markdown",
      "metadata": {
        "id": "pzHDFCvENKQU"
      },
      "source": [
        "I decided to implement a PEFT re-parametrization technique i.e., LoRA (Low Rank Adaptation). The idea is that we freeze all pre-trained model weights, not only a subset of weights, such that the internal model parameters stay the same, while we augument the model with additional parameters which instead are trainable. Equivalently, we can re-parameterize a subset of the original model parameters with low-dimensional proxy parameters, and just optimize the proxy.\n",
        "\n",
        "It has been empirically proven that \"pre-trained language models have a low “instrisic dimension” and can still learn efficiently despite a random projection to a smaller subspace\". Therefore, based on this idea, we can hypothesize that the LLM weight matrices are low-rank and also that the updates to the weights have low \"intrinsic rank\" during adaptation.\n",
        "\n",
        "By following the implementation of the [official paper](https://arxiv.org/pdf/2106.09685) we adapt the query and value projection matrices in the self-attention layer of our ALBERT model, while freezing the original query and value trainable parameters. In our case, the original query and value projection matrices have a (768, 768) dimension for a total of 589824 parameters each. With LoRA we can define two matrices such that their product yields a matrix of weights of the same shape of the original one. For instance, when choosing a rank $r$=4 we have a matrix $\\text{A}$ having dimension (4, 768) and a matrix $\\text{B}$ having dimension (768, 4) such that matrix $\\text{BA}$ has shape (768, 768). However, now, we have to train only 2\\*768\\*4=6144 trainable parameters instead of 589824 trainable parameters of the original model.\n",
        "\n",
        "$$\\text{Updated output: $\\text{h(x)}$ = original output + lora output = $\\text{W}x + \\text{BA}x$}$$\n",
        "\n",
        "where $\\text{W}$ is the original matrix of weights. Like in the paper we use a random Gaussian initialization for $\\text{A}$ and zero for $\\text{B}$, so $\\text{BA}$ is zero at the beginning of training.\n",
        "\n",
        "One of the down-sides of LoRA is that there are many hyperparameters that can be chosen:\n",
        "* the **rank** can take any value such that $r > 0$ and $r \\ll \\text{min}(d, k)$ where $\\text{W} \\in \\mathbb{R}^{d \\times k}$. In our case, $d=k=768$. I chose $r=4$ as it yields satisfactory results in combination with the other chosen hyperparameters.\n",
        "* the **initialization** of the matrices $\\text{A}$ and $\\text{B}$. I decided to stick with the one cited in the paper, as previously stated.\n",
        "* **where to apply**, inject the LoRA components. The results of the paper show that updating query and value matrices performes better than updating only one matrix even at lower ranks."
      ]
    },
    {
      "cell_type": "code",
      "execution_count": 13,
      "metadata": {
        "id": "gGbCi1PB56tc"
      },
      "outputs": [],
      "source": [
        "# Source 1: https://www.tensorflow.org/guide/keras/making_new_layers_and_models_via_subclassing\n",
        "# Source 2: https://keras.posit.co/reference/Layer.html\n",
        "# Source 3: https://keras.io/examples/nlp/parameter_efficient_finetuning_of_gpt2_with_lora/\n",
        "\n",
        "class LoraLayer(tf.keras.layers.Layer):\n",
        "    def __init__(self, original_layer, rank = 4, **kwargs):\n",
        "      super(LoraLayer, self).__init__(**kwargs)\n",
        "\n",
        "      self.original_layer = original_layer\n",
        "      self.original_layer.trainable = False # freeze original query and value layers\n",
        "      self.rank = rank\n",
        "      config = self.original_layer.get_config()\n",
        "\n",
        "      n = self.original_layer.kernel.shape[0]\n",
        "\n",
        "      # initialize LoRA parameters and set as trainable\n",
        "      self.lora_A = self.add_weight(name='lora_A', shape=(self.rank, n), initializer='random_normal', trainable=True)\n",
        "      self.lora_B = self.add_weight(name='lora_B', shape=(n, self.rank), initializer='zeros', trainable=True)\n",
        "\n",
        "      # Check correct shape\n",
        "      print(f'Shape of matrix Lora A for {config[\"name\"]}: {self.lora_A.shape}')\n",
        "      print(f'Shape of matrix Lora B for {config[\"name\"]}: {self.lora_B.shape}')\n",
        "\n",
        "    def call(self, inputs):\n",
        "      # updated output with LoRA weights: h(x) = (W + deltaW)x = original output + lora output where deltaW=BA\n",
        "      return self.original_layer(inputs) + tf.linalg.matmul(inputs, tf.linalg.matmul(self.lora_B, self.lora_A))"
      ]
    },
    {
      "cell_type": "markdown",
      "metadata": {
        "id": "FRdB4H4LVeKi"
      },
      "source": [
        "I needed to define a `LoraCustomAlbert` class with customized `train_step` and `call` instance methods to define our `lora_model`. I further added some additional methods such as `get_trainable_weights` and `num_lora_parameters` which respectively return the current trainable weights and the number of LoRA parameters (all trainable).\n"
      ]
    },
    {
      "cell_type": "code",
      "execution_count": 28,
      "metadata": {
        "id": "XZqxtoKd6Hw4"
      },
      "outputs": [],
      "source": [
        "# Source 1: https://www.tensorflow.org/guide/keras/customizing_what_happens_in_fit\n",
        "# Source 2: https://keras.io/examples/nlp/parameter_efficient_finetuning_of_gpt2_with_lora/\n",
        "# Source 3: https://www.tensorflow.org/guide/keras/training_with_built_in_methods\n",
        "\n",
        "class LoraCustomAlbert(keras.Model):\n",
        "    def __init__(self, rank, base_model, learning_rate=0.001):\n",
        "        super(LoraCustomAlbert, self).__init__()\n",
        "\n",
        "        self.optimizer = tf.keras.optimizers.Adam(learning_rate=learning_rate)\n",
        "        # self.optimizer = tf.keras.optimizers.SGD(learning_rate = 0.1)\n",
        "\n",
        "        # pre-trained base model (for binary classification)\n",
        "        self.base_model = base_model\n",
        "        self.albert_layer = self.base_model.albert\n",
        "\n",
        "        # freeze all pre-trained model weights within the Albert model\n",
        "        for layer in self.albert_layer.submodules:\n",
        "            layer.trainable = False\n",
        "\n",
        "        print()\n",
        "        for layer in self.albert_layer.submodules:\n",
        "            if isinstance(layer, transformers.models.albert.modeling_tf_albert.TFAlbertAttention):\n",
        "              # attention mechanism\n",
        "              attention_layer = layer\n",
        "              query_layer = attention_layer.query\n",
        "              value_layer = attention_layer.value\n",
        "              # query and value LoRA layers\n",
        "              # these matrices are utilized by multiple attention heads (parameter sharing)\n",
        "              self.query_lora_layer = LoraLayer(query_layer, rank=rank)\n",
        "              self.query_lora_layer._name = 'Lora_q'\n",
        "              self.value_lora_layer = LoraLayer(value_layer, rank=rank)\n",
        "              self.value_lora_layer._name = 'Lora_v'\n",
        "              # inject the LoRA matrices\n",
        "              attention_layer.query = self.query_lora_layer\n",
        "              attention_layer.value = self.value_lora_layer\n",
        "\n",
        "        print()\n",
        "        print('Multiple checks to ensure that only LoRA layers are trainable')\n",
        "        print('Trainable Albert weights:')\n",
        "        for layer in self.albert_layer.submodules:\n",
        "          temp_list = [weight.name for weight in layer.trainable_weights]\n",
        "          if len(temp_list) > 1:\n",
        "            print(temp_list)\n",
        "        print('Trainable Albert layers:')\n",
        "        for layer in self.albert_layer.submodules:\n",
        "          if layer.trainable:\n",
        "            print(layer.name)\n",
        "\n",
        "        # should already be set to False\n",
        "        self.base_model.classifier.trainable = False\n",
        "        self.base_model.dropout.trainable = False\n",
        "\n",
        "        # keep a list of all trainable weights (i.e., only LoRA weights)\n",
        "        self.my_trainable_weights = []\n",
        "        for layer in self.albert_layer.submodules:\n",
        "          self.my_trainable_weights.extend(layer.trainable_weights)\n",
        "        print('Names of trainable weights in my list of trainable weights:', [weight.name for weight in self.my_trainable_weights])\n",
        "\n",
        "    # modify the training step with new trainable weights\n",
        "    def train_step(self, data):\n",
        "        inputs, labels = data\n",
        "        with tf.GradientTape() as tape:\n",
        "            outputs = self.base_model(**inputs, training=True) # forward pass: compute model output\n",
        "            logits = outputs.logits\n",
        "            loss = self.compiled_loss(labels, logits) # in the compiled loss we set \"from_logits=True\"\n",
        "        # backwards pass\n",
        "        gradients = tape.gradient(loss, self.my_trainable_weights) # compute the gradients of the loss with respect to the model’s trainable weights\n",
        "        self.optimizer.apply_gradients(zip(gradients, self.my_trainable_weights)) # update parameter values\n",
        "        self.compiled_metrics.update_state(labels, logits)\n",
        "        return {m.name: m.result() for m in self.metrics} # return loss (sparse categorical crossentropy) and sparse_categorical_accuracy values\n",
        "\n",
        "    # customize call function (base_model)\n",
        "    def call(self, inputs, training=False):\n",
        "        return self.base_model(**inputs, training=training)\n",
        "\n",
        "    def get_trainable_weights(self):\n",
        "      return self.my_trainable_weights\n",
        "\n",
        "    def num_lora_parameters(self):\n",
        "      num_trainable_parameters = 0\n",
        "      for arr in self.my_trainable_weights:\n",
        "        num_trainable_parameters += arr.numpy().reshape(-1).shape[0]\n",
        "      return num_trainable_parameters"
      ]
    },
    {
      "cell_type": "code",
      "execution_count": 29,
      "metadata": {
        "colab": {
          "base_uri": "https://localhost:8080/"
        },
        "id": "Fm68zmrA6QQD",
        "outputId": "a85c0a6e-370b-4d83-896c-e5448a29fc1a"
      },
      "outputs": [
        {
          "name": "stdout",
          "output_type": "stream",
          "text": [
            "RANK=4 LORA MODEL\n"
          ]
        },
        {
          "name": "stderr",
          "output_type": "stream",
          "text": [
            "All PyTorch model weights were used when initializing TFAlbertForSequenceClassification.\n",
            "\n",
            "Some weights or buffers of the TF 2.0 model TFAlbertForSequenceClassification were not initialized from the PyTorch model and are newly initialized: ['classifier.weight', 'classifier.bias']\n",
            "You should probably TRAIN this model on a down-stream task to be able to use it for predictions and inference.\n"
          ]
        },
        {
          "name": "stdout",
          "output_type": "stream",
          "text": [
            "\n",
            "Shape of matrix Lora A for query: (4, 768)\n",
            "Shape of matrix Lora B for query: (768, 4)\n",
            "Shape of matrix Lora A for value: (4, 768)\n",
            "Shape of matrix Lora B for value: (768, 4)\n",
            "\n",
            "Multiple checks to ensure that only LoRA layers are trainable\n",
            "Trainable Albert weights:\n",
            "['lora_A:0', 'lora_B:0']\n",
            "['lora_A:0', 'lora_B:0']\n",
            "Trainable Albert layers:\n",
            "Lora_q\n",
            "Lora_v\n",
            "Names of trainable weights in my list of trainable weights: ['lora_A:0', 'lora_B:0', 'lora_A:0', 'lora_B:0']\n"
          ]
        }
      ],
      "source": [
        "tf.keras.utils.set_random_seed(1234)\n",
        "# low intrinstic rank\n",
        "print('RANK=4 LORA MODEL') # rank 4 yields already great results and increasing it to 8 does not visibly improve the model\n",
        "\n",
        "original_model = TFAutoModelForSequenceClassification.from_pretrained('albert-base-v2', num_labels=2)\n",
        "original_model.load_weights('base_model_weights.h5')\n",
        "original_model.trainable = False\n",
        "lora_model_r4 = LoraCustomAlbert(rank=4, base_model=original_model, learning_rate=0.001)"
      ]
    },
    {
      "cell_type": "code",
      "execution_count": 30,
      "metadata": {
        "colab": {
          "base_uri": "https://localhost:8080/"
        },
        "id": "UZWJyCk9GyqK",
        "outputId": "fde52bae-4be1-4bad-fea2-b504618e0379"
      },
      "outputs": [
        {
          "name": "stdout",
          "output_type": "stream",
          "text": [
            "Number of LoRA trainable parameters with rank=4: 12288\n"
          ]
        }
      ],
      "source": [
        "print(f'Number of LoRA trainable parameters with rank=4: {lora_model_r4.num_lora_parameters()}') # vs 2*768*768=1,179,648 original parameters"
      ]
    },
    {
      "cell_type": "code",
      "execution_count": 31,
      "metadata": {
        "colab": {
          "base_uri": "https://localhost:8080/"
        },
        "id": "yuPGt2_r6JzI",
        "outputId": "d997af9b-ba30-4e24-94f3-5a3374f9127f"
      },
      "outputs": [
        {
          "data": {
            "text/plain": [
              "ListWrapper([<tf.Variable 'lora_A:0' shape=(4, 768) dtype=float32, numpy=\n",
              "array([[-0.04024116,  0.03047589,  0.04350131, ...,  0.10628819,\n",
              "         0.02707832,  0.04128957],\n",
              "       [ 0.02387177, -0.0643924 ,  0.00322855, ..., -0.03422604,\n",
              "        -0.01351881, -0.02375426],\n",
              "       [ 0.05051091,  0.06913877, -0.05276849, ...,  0.06113426,\n",
              "         0.05384082, -0.0879037 ],\n",
              "       [ 0.00013123, -0.04606956, -0.04689973, ..., -0.01983148,\n",
              "         0.0581385 ,  0.03658329]], dtype=float32)>, <tf.Variable 'lora_B:0' shape=(768, 4) dtype=float32, numpy=\n",
              "array([[0., 0., 0., 0.],\n",
              "       [0., 0., 0., 0.],\n",
              "       [0., 0., 0., 0.],\n",
              "       ...,\n",
              "       [0., 0., 0., 0.],\n",
              "       [0., 0., 0., 0.],\n",
              "       [0., 0., 0., 0.]], dtype=float32)>, <tf.Variable 'lora_A:0' shape=(4, 768) dtype=float32, numpy=\n",
              "array([[-0.02016698,  0.00048892, -0.01410156, ...,  0.06038123,\n",
              "        -0.01205856,  0.00050438],\n",
              "       [-0.05061669,  0.10763893,  0.07429618, ...,  0.0008703 ,\n",
              "        -0.07222711, -0.01492883],\n",
              "       [ 0.02821928,  0.0700907 ,  0.01578661, ..., -0.01625913,\n",
              "        -0.0573368 ,  0.03746299],\n",
              "       [-0.0410637 , -0.04510008,  0.14916818, ...,  0.05980384,\n",
              "        -0.00235066,  0.03635244]], dtype=float32)>, <tf.Variable 'lora_B:0' shape=(768, 4) dtype=float32, numpy=\n",
              "array([[0., 0., 0., 0.],\n",
              "       [0., 0., 0., 0.],\n",
              "       [0., 0., 0., 0.],\n",
              "       ...,\n",
              "       [0., 0., 0., 0.],\n",
              "       [0., 0., 0., 0.],\n",
              "       [0., 0., 0., 0.]], dtype=float32)>])"
            ]
          },
          "execution_count": 31,
          "metadata": {},
          "output_type": "execute_result"
        }
      ],
      "source": [
        "lora_model_r4.get_trainable_weights() # before training"
      ]
    },
    {
      "cell_type": "markdown",
      "metadata": {
        "id": "sFFBpyg3rd9q"
      },
      "source": [
        "#### **Train `lora_model`**"
      ]
    },
    {
      "cell_type": "markdown",
      "metadata": {
        "id": "Q21H21k8lOcc"
      },
      "source": [
        "For this task a high number of epochs is not necessary as training and validation accuracy fastly increase (and loss decreases) after one epoch, and the validation loss starts to increase after the fourth epoch (early stopping kicks in)."
      ]
    },
    {
      "cell_type": "code",
      "execution_count": 32,
      "metadata": {
        "colab": {
          "base_uri": "https://localhost:8080/"
        },
        "id": "JzKLPQ-8T_zv",
        "outputId": "e9db2355-8913-4f9c-bcad-a63a7a5484bc"
      },
      "outputs": [
        {
          "name": "stdout",
          "output_type": "stream",
          "text": [
            "Loss before training: 0.5523\n",
            "Accuracy before training: 0.7223\n",
            "\n",
            "Training: \n",
            "Epoch 1/10\n",
            "322/322 [==============================] - 473s 1s/step - loss: 0.4538 - sparse_categorical_accuracy: 0.7896 - val_loss: 0.3249 - val_sparse_categorical_accuracy: 0.8598\n",
            "Epoch 2/10\n",
            "322/322 [==============================] - 442s 1s/step - loss: 0.2927 - sparse_categorical_accuracy: 0.8728 - val_loss: 0.2603 - val_sparse_categorical_accuracy: 0.8895\n",
            "Epoch 3/10\n",
            "322/322 [==============================] - 441s 1s/step - loss: 0.2448 - sparse_categorical_accuracy: 0.8986 - val_loss: 0.2541 - val_sparse_categorical_accuracy: 0.8956\n",
            "Epoch 4/10\n",
            "322/322 [==============================] - 442s 1s/step - loss: 0.2154 - sparse_categorical_accuracy: 0.9114 - val_loss: 0.2409 - val_sparse_categorical_accuracy: 0.8991\n",
            "Epoch 5/10\n",
            "322/322 [==============================] - 441s 1s/step - loss: 0.2367 - sparse_categorical_accuracy: 0.9069 - val_loss: 0.2985 - val_sparse_categorical_accuracy: 0.8764\n",
            "Epoch 6/10\n",
            "322/322 [==============================] - 441s 1s/step - loss: 0.1926 - sparse_categorical_accuracy: 0.9219 - val_loss: 0.2567 - val_sparse_categorical_accuracy: 0.8969\n",
            "\n",
            "Loss after training: 0.1604\n",
            "Accuracy after training: 0.9371\n"
          ]
        }
      ],
      "source": [
        "### RANK=4\n",
        "tf.keras.utils.set_random_seed(1234)\n",
        "\n",
        "## Compile the model\n",
        "# no need for one-hot encodings as task is binary so we can use the sparse categorical crossentropy and accuracy\n",
        "# model gives logits in output\n",
        "loss = tf.keras.losses.SparseCategoricalCrossentropy(from_logits=True) # from_logits=True to avoid numerical issues from the use of the exp, more stable\n",
        "lora_model_r4.compile(loss=loss, metrics=[\"sparse_categorical_accuracy\"])\n",
        "# Early stopping to prevent overfitting\n",
        "early_stop = tf.keras.callbacks.EarlyStopping(monitor='val_loss', patience=2)\n",
        "\n",
        "## Mini-batch gradient descent\n",
        "# batch_size: number of training examples used in one iteration to update the model parameters\n",
        "# (number of training examples/batch_size) gives the number of iterations needed to complete one epoch\n",
        "batch_size = 64 # cannot run with batch size=128 as it requires too much memory and computational power (GPU)\n",
        "# completing an epoch means that the learning algorithm has made one full pass through the entire dataset\n",
        "num_epochs = 10\n",
        "\n",
        "## Evaluate the model before training\n",
        "train_loss, train_accuracy = lora_model_r4.evaluate(train_dataset.batch(batch_size), verbose=0)\n",
        "print(f'Loss before training: {train_loss:.4f}')\n",
        "print(f'Accuracy before training: {train_accuracy:.4f}')\n",
        "print()\n",
        "\n",
        "## Train the model\n",
        "# Instead of randomly sampling batches from the training dataset at each iteration:\n",
        "# 1) shuffle the full dataset\n",
        "# 2) split the dataset into blocks of 64 (batch_size) elements and process them sequentially\n",
        "# 3) after completed an epoch return to 1) until we have reached the num_epochs or other stoppping criterion\n",
        "# Here we need 322 iterations (mini-batches) to complete an epoch\n",
        "print('Training: ')\n",
        "history = lora_model_r4.fit(train_dataset.shuffle(100).batch(batch_size),\n",
        "                            epochs=num_epochs, verbose=1,\n",
        "                            validation_data=val_dataset.batch(batch_size),\n",
        "                            callbacks=[early_stop])\n",
        "\n",
        "## Evaluate the model after training\n",
        "print()\n",
        "train_loss, train_accuracy = lora_model_r4.evaluate(train_dataset.batch(batch_size), verbose=0)\n",
        "print(f'Loss after training: {train_loss:.4f}')\n",
        "print(f'Accuracy after training: {train_accuracy:.4f}')"
      ]
    },
    {
      "cell_type": "code",
      "execution_count": 33,
      "metadata": {
        "colab": {
          "base_uri": "https://localhost:8080/"
        },
        "id": "J-EInvFqgIhP",
        "outputId": "759e3e2a-876a-455d-8dc2-fd24d0a45d9c"
      },
      "outputs": [
        {
          "data": {
            "text/plain": [
              "ListWrapper([<tf.Variable 'lora_A:0' shape=(4, 768) dtype=float32, numpy=\n",
              "array([[ 0.05010508,  0.04364596,  0.06297856, ...,  0.19670464,\n",
              "        -0.01041685, -0.01653913],\n",
              "       [ 0.01126462, -0.17392947,  0.0509535 , ..., -0.02271234,\n",
              "         0.06649283, -0.04482936],\n",
              "       [-0.03372956,  0.06099809,  0.002925  , ...,  0.06422238,\n",
              "         0.054857  , -0.10590455],\n",
              "       [ 0.03721963, -0.04999409, -0.08766777, ..., -0.10278478,\n",
              "         0.05885093,  0.07873525]], dtype=float32)>, <tf.Variable 'lora_B:0' shape=(768, 4) dtype=float32, numpy=\n",
              "array([[-0.12004127, -0.01016141, -0.05792761,  0.08602048],\n",
              "       [ 0.03710642,  0.03049427, -0.00350597,  0.01907025],\n",
              "       [-0.00889937, -0.05416471,  0.00375575,  0.04284374],\n",
              "       ...,\n",
              "       [ 0.1709196 , -0.02738574,  0.02236033,  0.09387621],\n",
              "       [-0.04908698,  0.00127423, -0.03783989,  0.02226138],\n",
              "       [ 0.02299672, -0.04187552, -0.06106384,  0.01050416]],\n",
              "      dtype=float32)>, <tf.Variable 'lora_A:0' shape=(4, 768) dtype=float32, numpy=\n",
              "array([[-0.05496586, -0.00066972, -0.04183637, ...,  0.04153304,\n",
              "        -0.07867649, -0.04886945],\n",
              "       [-0.01387139,  0.04560191,  0.04441221, ..., -0.05555433,\n",
              "        -0.12914446, -0.09630522],\n",
              "       [ 0.06606049,  0.08353113,  0.01599178, ...,  0.00393182,\n",
              "        -0.06830136, -0.00869245],\n",
              "       [-0.00498404, -0.06257261,  0.14750259, ...,  0.01892219,\n",
              "        -0.01316208, -0.05245345]], dtype=float32)>, <tf.Variable 'lora_B:0' shape=(768, 4) dtype=float32, numpy=\n",
              "array([[-0.10031745, -0.08043756,  0.00615361,  0.09867401],\n",
              "       [-0.06076655, -0.01815401, -0.00584938, -0.07440083],\n",
              "       [-0.09578837, -0.07286353, -0.01314173, -0.04889892],\n",
              "       ...,\n",
              "       [-0.00525112,  0.05166433,  0.04339325,  0.11451767],\n",
              "       [ 0.00949697,  0.00062398, -0.03332219,  0.04961949],\n",
              "       [-0.13200787, -0.06816598, -0.02086409, -0.00264819]],\n",
              "      dtype=float32)>])"
            ]
          },
          "execution_count": 33,
          "metadata": {},
          "output_type": "execute_result"
        }
      ],
      "source": [
        "# check that weights have changed\n",
        "lora_model_r4.get_trainable_weights() # after training"
      ]
    },
    {
      "cell_type": "markdown",
      "metadata": {
        "id": "QYWfL2BZrh49"
      },
      "source": [
        "#### **Evaluate `lora_model`**"
      ]
    },
    {
      "cell_type": "markdown",
      "metadata": {
        "id": "BUvRp_QmMhPP"
      },
      "source": [
        "We can evaluate the trained `lora_model` and compare it with the `base_model`. It can clearly be seen that there has been an improvement in accuracy w.r.t. the `base_model`. Moreover, the model no longer misclassifies as many non-sarcastic examples as sarcastic (look at the specificity values). We can conclude that, in our case, LoRA has successfully improved our original pre-trained model."
      ]
    },
    {
      "cell_type": "code",
      "execution_count": 34,
      "metadata": {
        "colab": {
          "base_uri": "https://localhost:8080/",
          "height": 930
        },
        "id": "WeiXAH9HUCzX",
        "outputId": "af3f1c33-4210-475a-cd65-aac5aeb691fc"
      },
      "outputs": [
        {
          "name": "stdout",
          "output_type": "stream",
          "text": [
            "Test Accuracy of base model: 0.7152\n",
            "Specificity: 0.5963\n",
            "Sensitivity (Recall): 0.8460\n"
          ]
        },
        {
          "data": {
            "image/png": "[encoded data removed]",
            "text/plain": [
              "<Figure size 500x400 with 2 Axes>"
            ]
          },
          "metadata": {},
          "output_type": "display_data"
        },
        {
          "name": "stdout",
          "output_type": "stream",
          "text": [
            "\n",
            "Test Accuracy of Lora model with rank=4 after training: 0.9044\n",
            "Specificity: 0.9219\n",
            "Sensitivity (Recall): 0.8852\n"
          ]
        },
        {
          "data": {
            "image/png": "[encoded data removed]",
            "text/plain": [
              "<Figure size 500x400 with 2 Axes>"
            ]
          },
          "metadata": {},
          "output_type": "display_data"
        }
      ],
      "source": [
        "# Base model\n",
        "predictions = base_model.predict(test_dataset.batch(batch_size), verbose=0)\n",
        "predicted_labels = tf.argmax(predictions.logits, axis=-1).numpy()\n",
        "accuracy = np.mean(predicted_labels == test_labels)\n",
        "print(f'Test Accuracy of base model: {accuracy:.4f}')\n",
        "tn, fp, fn, tp = confusion_matrix(test_labels.numpy(), predicted_labels).ravel()\n",
        "print(f'Specificity: {tn/(tn + fp):.4f}') # true negatives/all negatives\n",
        "print(f'Sensitivity (Recall): {tp/(tp + fn):.4f}') # true positives/all positives\n",
        "conf_matrix = confusion_matrix(test_labels.numpy(), predicted_labels)\n",
        "plt.figure(figsize=(5, 4))\n",
        "sns.heatmap(conf_matrix, annot=True, fmt='d', cmap='Purples', xticklabels=['Non-Sarcastic', 'Sarcastic'], yticklabels=['Non-Sarcastic', 'Sarcastic'])\n",
        "plt.xlabel('Predicted Label')\n",
        "plt.ylabel('True Label')\n",
        "plt.title('Base Model Confusion Matrix')\n",
        "plt.show()\n",
        "print()\n",
        "\n",
        "# LoRA model\n",
        "predictions = lora_model_r4.predict(test_dataset.batch(batch_size), verbose=0)\n",
        "predicted_labels = tf.argmax(predictions.logits, axis=-1).numpy()\n",
        "accuracy = np.mean(predicted_labels == test_labels)\n",
        "print(f'Test Accuracy of Lora model with rank=4 after training: {accuracy:.4f}')\n",
        "tn, fp, fn, tp = confusion_matrix(test_labels.numpy(), predicted_labels).ravel()\n",
        "print(f'Specificity: {tn/(tn + fp):.4f}') # true negatives/all negatives\n",
        "print(f'Sensitivity (Recall): {tp/(tp + fn):.4f}') # true positives/all positives\n",
        "conf_matrix = confusion_matrix(test_labels.numpy(), predicted_labels)\n",
        "plt.figure(figsize=(5, 4))\n",
        "sns.heatmap(conf_matrix, annot=True, fmt='d', cmap='Purples', xticklabels=['Non-Sarcastic', 'Sarcastic'], yticklabels=['Non-Sarcastic', 'Sarcastic'])\n",
        "plt.xlabel('Predicted Label')\n",
        "plt.ylabel('True Label')\n",
        "plt.title('Lora Model with rank=4 Confusion Matrix')\n",
        "plt.show()"
      ]
    }
  ],
  "metadata": {
    "accelerator": "GPU",
    "colab": {
      "collapsed_sections": [
        "BmzKI83R0uYa",
        "XXUhR5ZH9PKQ"
      ],
      "gpuType": "T4",
      "provenance": []
    },
    "kernelspec": {
      "display_name": "Python 3",
      "name": "python3"
    },
    "language_info": {
      "name": "python"
    },
    "widgets": {
      "application/vnd.jupyter.widget-state+json": {
        "011dea374ce44a22a7fa8af82f4b86be": {
          "model_module": "@jupyter-widgets/controls",
          "model_module_version": "1.5.0",
          "model_name": "FloatProgressModel",
          "state": {
            "_dom_classes": [],
            "_model_module": "@jupyter-widgets/controls",
            "_model_module_version": "1.5.0",
            "_model_name": "FloatProgressModel",
            "_view_count": null,
            "_view_module": "@jupyter-widgets/controls",
            "_view_module_version": "1.5.0",
            "_view_name": "ProgressView",
            "bar_style": "success",
            "description": "",
            "description_tooltip": null,
            "layout": "IPY_MODEL_06065bf4192e401a911e20d6695d892b",
            "max": 25,
            "min": 0,
            "orientation": "horizontal",
            "style": "IPY_MODEL_7b2998da5b8649e09f9ec849a25b1e24",
            "value": 25
          }
        },
        "019940d4578a419485b8d35f9df52f46": {
          "model_module": "@jupyter-widgets/controls",
          "model_module_version": "1.5.0",
          "model_name": "HBoxModel",
          "state": {
            "_dom_classes": [],
            "_model_module": "@jupyter-widgets/controls",
            "_model_module_version": "1.5.0",
            "_model_name": "HBoxModel",
            "_view_count": null,
            "_view_module": "@jupyter-widgets/controls",
            "_view_module_version": "1.5.0",
            "_view_name": "HBoxView",
            "box_style": "",
            "children": [
              "IPY_MODEL_565f1364f3324743a8f4e0ec70a4a59c",
              "IPY_MODEL_573ce7eade80456ab5c15c3ba2bc584c",
              "IPY_MODEL_9b7561270e1b4fbe84f9930fcb77af57"
            ],
            "layout": "IPY_MODEL_e31acb7c99d34ecc99ad209be08430cf"
          }
        },
        "06065bf4192e401a911e20d6695d892b": {
          "model_module": "@jupyter-widgets/base",
          "model_module_version": "1.2.0",
          "model_name": "LayoutModel",
          "state": {
            "_model_module": "@jupyter-widgets/base",
            "_model_module_version": "1.2.0",
            "_model_name": "LayoutModel",
            "_view_count": null,
            "_view_module": "@jupyter-widgets/base",
            "_view_module_version": "1.2.0",
            "_view_name": "LayoutView",
            "align_content": null,
            "align_items": null,
            "align_self": null,
            "border": null,
            "bottom": null,
            "display": null,
            "flex": null,
            "flex_flow": null,
            "grid_area": null,
            "grid_auto_columns": null,
            "grid_auto_flow": null,
            "grid_auto_rows": null,
            "grid_column": null,
            "grid_gap": null,
            "grid_row": null,
            "grid_template_areas": null,
            "grid_template_columns": null,
            "grid_template_rows": null,
            "height": null,
            "justify_content": null,
            "justify_items": null,
            "left": null,
            "margin": null,
            "max_height": null,
            "max_width": null,
            "min_height": null,
            "min_width": null,
            "object_fit": null,
            "object_position": null,
            "order": null,
            "overflow": null,
            "overflow_x": null,
            "overflow_y": null,
            "padding": null,
            "right": null,
            "top": null,
            "visibility": null,
            "width": null
          }
        },
        "151017a29c4c4b029def6ca2d04eb679": {
          "model_module": "@jupyter-widgets/base",
          "model_module_version": "1.2.0",
          "model_name": "LayoutModel",
          "state": {
            "_model_module": "@jupyter-widgets/base",
            "_model_module_version": "1.2.0",
            "_model_name": "LayoutModel",
            "_view_count": null,
            "_view_module": "@jupyter-widgets/base",
            "_view_module_version": "1.2.0",
            "_view_name": "LayoutView",
            "align_content": null,
            "align_items": null,
            "align_self": null,
            "border": null,
            "bottom": null,
            "display": null,
            "flex": null,
            "flex_flow": null,
            "grid_area": null,
            "grid_auto_columns": null,
            "grid_auto_flow": null,
            "grid_auto_rows": null,
            "grid_column": null,
            "grid_gap": null,
            "grid_row": null,
            "grid_template_areas": null,
            "grid_template_columns": null,
            "grid_template_rows": null,
            "height": null,
            "justify_content": null,
            "justify_items": null,
            "left": null,
            "margin": null,
            "max_height": null,
            "max_width": null,
            "min_height": null,
            "min_width": null,
            "object_fit": null,
            "object_position": null,
            "order": null,
            "overflow": null,
            "overflow_x": null,
            "overflow_y": null,
            "padding": null,
            "right": null,
            "top": null,
            "visibility": null,
            "width": null
          }
        },
        "1aad5056d2f24f009b8112582bfc2337": {
          "model_module": "@jupyter-widgets/base",
          "model_module_version": "1.2.0",
          "model_name": "LayoutModel",
          "state": {
            "_model_module": "@jupyter-widgets/base",
            "_model_module_version": "1.2.0",
            "_model_name": "LayoutModel",
            "_view_count": null,
            "_view_module": "@jupyter-widgets/base",
            "_view_module_version": "1.2.0",
            "_view_name": "LayoutView",
            "align_content": null,
            "align_items": null,
            "align_self": null,
            "border": null,
            "bottom": null,
            "display": null,
            "flex": null,
            "flex_flow": null,
            "grid_area": null,
            "grid_auto_columns": null,
            "grid_auto_flow": null,
            "grid_auto_rows": null,
            "grid_column": null,
            "grid_gap": null,
            "grid_row": null,
            "grid_template_areas": null,
            "grid_template_columns": null,
            "grid_template_rows": null,
            "height": null,
            "justify_content": null,
            "justify_items": null,
            "left": null,
            "margin": null,
            "max_height": null,
            "max_width": null,
            "min_height": null,
            "min_width": null,
            "object_fit": null,
            "object_position": null,
            "order": null,
            "overflow": null,
            "overflow_x": null,
            "overflow_y": null,
            "padding": null,
            "right": null,
            "top": null,
            "visibility": null,
            "width": null
          }
        },
        "1b7ebce221734aa48247293ce241791f": {
          "model_module": "@jupyter-widgets/base",
          "model_module_version": "1.2.0",
          "model_name": "LayoutModel",
          "state": {
            "_model_module": "@jupyter-widgets/base",
            "_model_module_version": "1.2.0",
            "_model_name": "LayoutModel",
            "_view_count": null,
            "_view_module": "@jupyter-widgets/base",
            "_view_module_version": "1.2.0",
            "_view_name": "LayoutView",
            "align_content": null,
            "align_items": null,
            "align_self": null,
            "border": null,
            "bottom": null,
            "display": null,
            "flex": null,
            "flex_flow": null,
            "grid_area": null,
            "grid_auto_columns": null,
            "grid_auto_flow": null,
            "grid_auto_rows": null,
            "grid_column": null,
            "grid_gap": null,
            "grid_row": null,
            "grid_template_areas": null,
            "grid_template_columns": null,
            "grid_template_rows": null,
            "height": null,
            "justify_content": null,
            "justify_items": null,
            "left": null,
            "margin": null,
            "max_height": null,
            "max_width": null,
            "min_height": null,
            "min_width": null,
            "object_fit": null,
            "object_position": null,
            "order": null,
            "overflow": null,
            "overflow_x": null,
            "overflow_y": null,
            "padding": null,
            "right": null,
            "top": null,
            "visibility": null,
            "width": null
          }
        },
        "1c3586dff84e4ffc87c2945503b491ba": {
          "model_module": "@jupyter-widgets/controls",
          "model_module_version": "1.5.0",
          "model_name": "DescriptionStyleModel",
          "state": {
            "_model_module": "@jupyter-widgets/controls",
            "_model_module_version": "1.5.0",
            "_model_name": "DescriptionStyleModel",
            "_view_count": null,
            "_view_module": "@jupyter-widgets/base",
            "_view_module_version": "1.2.0",
            "_view_name": "StyleView",
            "description_width": ""
          }
        },
        "1edd74295ab44299accce4523c4b04c0": {
          "model_module": "@jupyter-widgets/controls",
          "model_module_version": "1.5.0",
          "model_name": "DescriptionStyleModel",
          "state": {
            "_model_module": "@jupyter-widgets/controls",
            "_model_module_version": "1.5.0",
            "_model_name": "DescriptionStyleModel",
            "_view_count": null,
            "_view_module": "@jupyter-widgets/base",
            "_view_module_version": "1.2.0",
            "_view_name": "StyleView",
            "description_width": ""
          }
        },
        "20c33f4f8afc4f44819c35d518422ecb": {
          "model_module": "@jupyter-widgets/controls",
          "model_module_version": "1.5.0",
          "model_name": "DescriptionStyleModel",
          "state": {
            "_model_module": "@jupyter-widgets/controls",
            "_model_module_version": "1.5.0",
            "_model_name": "DescriptionStyleModel",
            "_view_count": null,
            "_view_module": "@jupyter-widgets/base",
            "_view_module_version": "1.2.0",
            "_view_name": "StyleView",
            "description_width": ""
          }
        },
        "2822bbc57b0b4748836148463e8e7dbc": {
          "model_module": "@jupyter-widgets/controls",
          "model_module_version": "1.5.0",
          "model_name": "HTMLModel",
          "state": {
            "_dom_classes": [],
            "_model_module": "@jupyter-widgets/controls",
            "_model_module_version": "1.5.0",
            "_model_name": "HTMLModel",
            "_view_count": null,
            "_view_module": "@jupyter-widgets/controls",
            "_view_module_version": "1.5.0",
            "_view_name": "HTMLView",
            "description": "",
            "description_tooltip": null,
            "layout": "IPY_MODEL_a2977c3af05a422797fbf8d905a33fc6",
            "placeholder": "​",
            "style": "IPY_MODEL_20c33f4f8afc4f44819c35d518422ecb",
            "value": " 684/684 [00:00&lt;00:00, 44.7kB/s]"
          }
        },
        "3091d2638ba746f1a974cf08920228ea": {
          "model_module": "@jupyter-widgets/controls",
          "model_module_version": "1.5.0",
          "model_name": "HBoxModel",
          "state": {
            "_dom_classes": [],
            "_model_module": "@jupyter-widgets/controls",
            "_model_module_version": "1.5.0",
            "_model_name": "HBoxModel",
            "_view_count": null,
            "_view_module": "@jupyter-widgets/controls",
            "_view_module_version": "1.5.0",
            "_view_name": "HBoxView",
            "box_style": "",
            "children": [
              "IPY_MODEL_7f07438b3bf145759381ec90a7099fb4",
              "IPY_MODEL_705c2cf9633d43f0b0ca5e7833c50761",
              "IPY_MODEL_7477dcb2ee3e4be7bd0572610b1e4729"
            ],
            "layout": "IPY_MODEL_b21448663fa842b593c77b32e71d2e2f"
          }
        },
        "33c42244f82f47029b2ce2dbfadda887": {
          "model_module": "@jupyter-widgets/controls",
          "model_module_version": "1.5.0",
          "model_name": "HTMLModel",
          "state": {
            "_dom_classes": [],
            "_model_module": "@jupyter-widgets/controls",
            "_model_module_version": "1.5.0",
            "_model_name": "HTMLModel",
            "_view_count": null,
            "_view_module": "@jupyter-widgets/controls",
            "_view_module_version": "1.5.0",
            "_view_name": "HTMLView",
            "description": "",
            "description_tooltip": null,
            "layout": "IPY_MODEL_7cdd23ca06e14a00ac654da6db294292",
            "placeholder": "​",
            "style": "IPY_MODEL_1edd74295ab44299accce4523c4b04c0",
            "value": "config.json: 100%"
          }
        },
        "34820bb34d4b402c8744ee74dfef3736": {
          "model_module": "@jupyter-widgets/base",
          "model_module_version": "1.2.0",
          "model_name": "LayoutModel",
          "state": {
            "_model_module": "@jupyter-widgets/base",
            "_model_module_version": "1.2.0",
            "_model_name": "LayoutModel",
            "_view_count": null,
            "_view_module": "@jupyter-widgets/base",
            "_view_module_version": "1.2.0",
            "_view_name": "LayoutView",
            "align_content": null,
            "align_items": null,
            "align_self": null,
            "border": null,
            "bottom": null,
            "display": null,
            "flex": null,
            "flex_flow": null,
            "grid_area": null,
            "grid_auto_columns": null,
            "grid_auto_flow": null,
            "grid_auto_rows": null,
            "grid_column": null,
            "grid_gap": null,
            "grid_row": null,
            "grid_template_areas": null,
            "grid_template_columns": null,
            "grid_template_rows": null,
            "height": null,
            "justify_content": null,
            "justify_items": null,
            "left": null,
            "margin": null,
            "max_height": null,
            "max_width": null,
            "min_height": null,
            "min_width": null,
            "object_fit": null,
            "object_position": null,
            "order": null,
            "overflow": null,
            "overflow_x": null,
            "overflow_y": null,
            "padding": null,
            "right": null,
            "top": null,
            "visibility": null,
            "width": null
          }
        },
        "35d0af76dc2a4136bfb9ea63bccbd68d": {
          "model_module": "@jupyter-widgets/controls",
          "model_module_version": "1.5.0",
          "model_name": "ProgressStyleModel",
          "state": {
            "_model_module": "@jupyter-widgets/controls",
            "_model_module_version": "1.5.0",
            "_model_name": "ProgressStyleModel",
            "_view_count": null,
            "_view_module": "@jupyter-widgets/base",
            "_view_module_version": "1.2.0",
            "_view_name": "StyleView",
            "bar_color": null,
            "description_width": ""
          }
        },
        "39cc3be155a846a49a4c0f6fc56a1117": {
          "model_module": "@jupyter-widgets/controls",
          "model_module_version": "1.5.0",
          "model_name": "DescriptionStyleModel",
          "state": {
            "_model_module": "@jupyter-widgets/controls",
            "_model_module_version": "1.5.0",
            "_model_name": "DescriptionStyleModel",
            "_view_count": null,
            "_view_module": "@jupyter-widgets/base",
            "_view_module_version": "1.2.0",
            "_view_name": "StyleView",
            "description_width": ""
          }
        },
        "3db55e0475364874bd1f73a673d2fd1d": {
          "model_module": "@jupyter-widgets/base",
          "model_module_version": "1.2.0",
          "model_name": "LayoutModel",
          "state": {
            "_model_module": "@jupyter-widgets/base",
            "_model_module_version": "1.2.0",
            "_model_name": "LayoutModel",
            "_view_count": null,
            "_view_module": "@jupyter-widgets/base",
            "_view_module_version": "1.2.0",
            "_view_name": "LayoutView",
            "align_content": null,
            "align_items": null,
            "align_self": null,
            "border": null,
            "bottom": null,
            "display": null,
            "flex": null,
            "flex_flow": null,
            "grid_area": null,
            "grid_auto_columns": null,
            "grid_auto_flow": null,
            "grid_auto_rows": null,
            "grid_column": null,
            "grid_gap": null,
            "grid_row": null,
            "grid_template_areas": null,
            "grid_template_columns": null,
            "grid_template_rows": null,
            "height": null,
            "justify_content": null,
            "justify_items": null,
            "left": null,
            "margin": null,
            "max_height": null,
            "max_width": null,
            "min_height": null,
            "min_width": null,
            "object_fit": null,
            "object_position": null,
            "order": null,
            "overflow": null,
            "overflow_x": null,
            "overflow_y": null,
            "padding": null,
            "right": null,
            "top": null,
            "visibility": null,
            "width": null
          }
        },
        "41e070f378f0475095836ebd45c1ba09": {
          "model_module": "@jupyter-widgets/base",
          "model_module_version": "1.2.0",
          "model_name": "LayoutModel",
          "state": {
            "_model_module": "@jupyter-widgets/base",
            "_model_module_version": "1.2.0",
            "_model_name": "LayoutModel",
            "_view_count": null,
            "_view_module": "@jupyter-widgets/base",
            "_view_module_version": "1.2.0",
            "_view_name": "LayoutView",
            "align_content": null,
            "align_items": null,
            "align_self": null,
            "border": null,
            "bottom": null,
            "display": null,
            "flex": null,
            "flex_flow": null,
            "grid_area": null,
            "grid_auto_columns": null,
            "grid_auto_flow": null,
            "grid_auto_rows": null,
            "grid_column": null,
            "grid_gap": null,
            "grid_row": null,
            "grid_template_areas": null,
            "grid_template_columns": null,
            "grid_template_rows": null,
            "height": null,
            "justify_content": null,
            "justify_items": null,
            "left": null,
            "margin": null,
            "max_height": null,
            "max_width": null,
            "min_height": null,
            "min_width": null,
            "object_fit": null,
            "object_position": null,
            "order": null,
            "overflow": null,
            "overflow_x": null,
            "overflow_y": null,
            "padding": null,
            "right": null,
            "top": null,
            "visibility": null,
            "width": null
          }
        },
        "4ddb5b744db0423697a9c587f96c2cf7": {
          "model_module": "@jupyter-widgets/base",
          "model_module_version": "1.2.0",
          "model_name": "LayoutModel",
          "state": {
            "_model_module": "@jupyter-widgets/base",
            "_model_module_version": "1.2.0",
            "_model_name": "LayoutModel",
            "_view_count": null,
            "_view_module": "@jupyter-widgets/base",
            "_view_module_version": "1.2.0",
            "_view_name": "LayoutView",
            "align_content": null,
            "align_items": null,
            "align_self": null,
            "border": null,
            "bottom": null,
            "display": null,
            "flex": null,
            "flex_flow": null,
            "grid_area": null,
            "grid_auto_columns": null,
            "grid_auto_flow": null,
            "grid_auto_rows": null,
            "grid_column": null,
            "grid_gap": null,
            "grid_row": null,
            "grid_template_areas": null,
            "grid_template_columns": null,
            "grid_template_rows": null,
            "height": null,
            "justify_content": null,
            "justify_items": null,
            "left": null,
            "margin": null,
            "max_height": null,
            "max_width": null,
            "min_height": null,
            "min_width": null,
            "object_fit": null,
            "object_position": null,
            "order": null,
            "overflow": null,
            "overflow_x": null,
            "overflow_y": null,
            "padding": null,
            "right": null,
            "top": null,
            "visibility": null,
            "width": null
          }
        },
        "4e29246e17d04cb7be5630c950d1509f": {
          "model_module": "@jupyter-widgets/base",
          "model_module_version": "1.2.0",
          "model_name": "LayoutModel",
          "state": {
            "_model_module": "@jupyter-widgets/base",
            "_model_module_version": "1.2.0",
            "_model_name": "LayoutModel",
            "_view_count": null,
            "_view_module": "@jupyter-widgets/base",
            "_view_module_version": "1.2.0",
            "_view_name": "LayoutView",
            "align_content": null,
            "align_items": null,
            "align_self": null,
            "border": null,
            "bottom": null,
            "display": null,
            "flex": null,
            "flex_flow": null,
            "grid_area": null,
            "grid_auto_columns": null,
            "grid_auto_flow": null,
            "grid_auto_rows": null,
            "grid_column": null,
            "grid_gap": null,
            "grid_row": null,
            "grid_template_areas": null,
            "grid_template_columns": null,
            "grid_template_rows": null,
            "height": null,
            "justify_content": null,
            "justify_items": null,
            "left": null,
            "margin": null,
            "max_height": null,
            "max_width": null,
            "min_height": null,
            "min_width": null,
            "object_fit": null,
            "object_position": null,
            "order": null,
            "overflow": null,
            "overflow_x": null,
            "overflow_y": null,
            "padding": null,
            "right": null,
            "top": null,
            "visibility": null,
            "width": null
          }
        },
        "4e6db9b23886431b89ad873d69a09ba4": {
          "model_module": "@jupyter-widgets/base",
          "model_module_version": "1.2.0",
          "model_name": "LayoutModel",
          "state": {
            "_model_module": "@jupyter-widgets/base",
            "_model_module_version": "1.2.0",
            "_model_name": "LayoutModel",
            "_view_count": null,
            "_view_module": "@jupyter-widgets/base",
            "_view_module_version": "1.2.0",
            "_view_name": "LayoutView",
            "align_content": null,
            "align_items": null,
            "align_self": null,
            "border": null,
            "bottom": null,
            "display": null,
            "flex": null,
            "flex_flow": null,
            "grid_area": null,
            "grid_auto_columns": null,
            "grid_auto_flow": null,
            "grid_auto_rows": null,
            "grid_column": null,
            "grid_gap": null,
            "grid_row": null,
            "grid_template_areas": null,
            "grid_template_columns": null,
            "grid_template_rows": null,
            "height": null,
            "justify_content": null,
            "justify_items": null,
            "left": null,
            "margin": null,
            "max_height": null,
            "max_width": null,
            "min_height": null,
            "min_width": null,
            "object_fit": null,
            "object_position": null,
            "order": null,
            "overflow": null,
            "overflow_x": null,
            "overflow_y": null,
            "padding": null,
            "right": null,
            "top": null,
            "visibility": null,
            "width": null
          }
        },
        "507753d9a8584213950d64d5396173fe": {
          "model_module": "@jupyter-widgets/controls",
          "model_module_version": "1.5.0",
          "model_name": "DescriptionStyleModel",
          "state": {
            "_model_module": "@jupyter-widgets/controls",
            "_model_module_version": "1.5.0",
            "_model_name": "DescriptionStyleModel",
            "_view_count": null,
            "_view_module": "@jupyter-widgets/base",
            "_view_module_version": "1.2.0",
            "_view_name": "StyleView",
            "description_width": ""
          }
        },
        "565f1364f3324743a8f4e0ec70a4a59c": {
          "model_module": "@jupyter-widgets/controls",
          "model_module_version": "1.5.0",
          "model_name": "HTMLModel",
          "state": {
            "_dom_classes": [],
            "_model_module": "@jupyter-widgets/controls",
            "_model_module_version": "1.5.0",
            "_model_name": "HTMLModel",
            "_view_count": null,
            "_view_module": "@jupyter-widgets/controls",
            "_view_module_version": "1.5.0",
            "_view_name": "HTMLView",
            "description": "",
            "description_tooltip": null,
            "layout": "IPY_MODEL_1b7ebce221734aa48247293ce241791f",
            "placeholder": "​",
            "style": "IPY_MODEL_e79adcf4664e4542b7630a8615f0ef4e",
            "value": "spiece.model: 100%"
          }
        },
        "573ce7eade80456ab5c15c3ba2bc584c": {
          "model_module": "@jupyter-widgets/controls",
          "model_module_version": "1.5.0",
          "model_name": "FloatProgressModel",
          "state": {
            "_dom_classes": [],
            "_model_module": "@jupyter-widgets/controls",
            "_model_module_version": "1.5.0",
            "_model_name": "FloatProgressModel",
            "_view_count": null,
            "_view_module": "@jupyter-widgets/controls",
            "_view_module_version": "1.5.0",
            "_view_name": "ProgressView",
            "bar_style": "success",
            "description": "",
            "description_tooltip": null,
            "layout": "IPY_MODEL_db6f12a123234bbdaa7d9f515652226e",
            "max": 760289,
            "min": 0,
            "orientation": "horizontal",
            "style": "IPY_MODEL_7c609412623b406f86981dbf3dfd3649",
            "value": 760289
          }
        },
        "60c34173b19a4ca8ba04159f488bf6ef": {
          "model_module": "@jupyter-widgets/controls",
          "model_module_version": "1.5.0",
          "model_name": "FloatProgressModel",
          "state": {
            "_dom_classes": [],
            "_model_module": "@jupyter-widgets/controls",
            "_model_module_version": "1.5.0",
            "_model_name": "FloatProgressModel",
            "_view_count": null,
            "_view_module": "@jupyter-widgets/controls",
            "_view_module_version": "1.5.0",
            "_view_name": "ProgressView",
            "bar_style": "success",
            "description": "",
            "description_tooltip": null,
            "layout": "IPY_MODEL_151017a29c4c4b029def6ca2d04eb679",
            "max": 47372894,
            "min": 0,
            "orientation": "horizontal",
            "style": "IPY_MODEL_80b6a075aa9e4f9baa020fbbab574a02",
            "value": 47372894
          }
        },
        "683e0225df8c439ca6cf5050f7622d87": {
          "model_module": "@jupyter-widgets/controls",
          "model_module_version": "1.5.0",
          "model_name": "HBoxModel",
          "state": {
            "_dom_classes": [],
            "_model_module": "@jupyter-widgets/controls",
            "_model_module_version": "1.5.0",
            "_model_name": "HBoxModel",
            "_view_count": null,
            "_view_module": "@jupyter-widgets/controls",
            "_view_module_version": "1.5.0",
            "_view_name": "HBoxView",
            "box_style": "",
            "children": [
              "IPY_MODEL_da43c8d61a2d4e3e8c9ac38077538c3f",
              "IPY_MODEL_b1ee469d37b64460959b278ea1f64464",
              "IPY_MODEL_e4e3d7dccc4b4c6589532d5bde698f61"
            ],
            "layout": "IPY_MODEL_3db55e0475364874bd1f73a673d2fd1d"
          }
        },
        "6a5b712918594ec7ae2cf6e97eb7551d": {
          "model_module": "@jupyter-widgets/controls",
          "model_module_version": "1.5.0",
          "model_name": "FloatProgressModel",
          "state": {
            "_dom_classes": [],
            "_model_module": "@jupyter-widgets/controls",
            "_model_module_version": "1.5.0",
            "_model_name": "FloatProgressModel",
            "_view_count": null,
            "_view_module": "@jupyter-widgets/controls",
            "_view_module_version": "1.5.0",
            "_view_name": "ProgressView",
            "bar_style": "success",
            "description": "",
            "description_tooltip": null,
            "layout": "IPY_MODEL_e0c47a5cb89c4391a3a5d65b9d22d065",
            "max": 684,
            "min": 0,
            "orientation": "horizontal",
            "style": "IPY_MODEL_35d0af76dc2a4136bfb9ea63bccbd68d",
            "value": 684
          }
        },
        "705c2cf9633d43f0b0ca5e7833c50761": {
          "model_module": "@jupyter-widgets/controls",
          "model_module_version": "1.5.0",
          "model_name": "FloatProgressModel",
          "state": {
            "_dom_classes": [],
            "_model_module": "@jupyter-widgets/controls",
            "_model_module_version": "1.5.0",
            "_model_name": "FloatProgressModel",
            "_view_count": null,
            "_view_module": "@jupyter-widgets/controls",
            "_view_module_version": "1.5.0",
            "_view_name": "ProgressView",
            "bar_style": "success",
            "description": "",
            "description_tooltip": null,
            "layout": "IPY_MODEL_a65b0bd1e6464cfdb6a6d8ab8f2a1457",
            "max": 25,
            "min": 0,
            "orientation": "horizontal",
            "style": "IPY_MODEL_772f249d587f4182a9cd261d015eeb82",
            "value": 25
          }
        },
        "7477dcb2ee3e4be7bd0572610b1e4729": {
          "model_module": "@jupyter-widgets/controls",
          "model_module_version": "1.5.0",
          "model_name": "HTMLModel",
          "state": {
            "_dom_classes": [],
            "_model_module": "@jupyter-widgets/controls",
            "_model_module_version": "1.5.0",
            "_model_name": "HTMLModel",
            "_view_count": null,
            "_view_module": "@jupyter-widgets/controls",
            "_view_module_version": "1.5.0",
            "_view_name": "HTMLView",
            "description": "",
            "description_tooltip": null,
            "layout": "IPY_MODEL_4e29246e17d04cb7be5630c950d1509f",
            "placeholder": "​",
            "style": "IPY_MODEL_9adb36a9e95e4b16bd5fcf255ab3d31b",
            "value": " 25.0/25.0 [00:00&lt;00:00, 1.96kB/s]"
          }
        },
        "762d780cf4fe40f2b9c936830ba3ad42": {
          "model_module": "@jupyter-widgets/controls",
          "model_module_version": "1.5.0",
          "model_name": "ProgressStyleModel",
          "state": {
            "_model_module": "@jupyter-widgets/controls",
            "_model_module_version": "1.5.0",
            "_model_name": "ProgressStyleModel",
            "_view_count": null,
            "_view_module": "@jupyter-widgets/base",
            "_view_module_version": "1.2.0",
            "_view_name": "StyleView",
            "bar_color": null,
            "description_width": ""
          }
        },
        "772f249d587f4182a9cd261d015eeb82": {
          "model_module": "@jupyter-widgets/controls",
          "model_module_version": "1.5.0",
          "model_name": "ProgressStyleModel",
          "state": {
            "_model_module": "@jupyter-widgets/controls",
            "_model_module_version": "1.5.0",
            "_model_name": "ProgressStyleModel",
            "_view_count": null,
            "_view_module": "@jupyter-widgets/base",
            "_view_module_version": "1.2.0",
            "_view_name": "StyleView",
            "bar_color": null,
            "description_width": ""
          }
        },
        "7b2998da5b8649e09f9ec849a25b1e24": {
          "model_module": "@jupyter-widgets/controls",
          "model_module_version": "1.5.0",
          "model_name": "ProgressStyleModel",
          "state": {
            "_model_module": "@jupyter-widgets/controls",
            "_model_module_version": "1.5.0",
            "_model_name": "ProgressStyleModel",
            "_view_count": null,
            "_view_module": "@jupyter-widgets/base",
            "_view_module_version": "1.2.0",
            "_view_name": "StyleView",
            "bar_color": null,
            "description_width": ""
          }
        },
        "7b7fe690217a413098fef085a28af285": {
          "model_module": "@jupyter-widgets/controls",
          "model_module_version": "1.5.0",
          "model_name": "DescriptionStyleModel",
          "state": {
            "_model_module": "@jupyter-widgets/controls",
            "_model_module_version": "1.5.0",
            "_model_name": "DescriptionStyleModel",
            "_view_count": null,
            "_view_module": "@jupyter-widgets/base",
            "_view_module_version": "1.2.0",
            "_view_name": "StyleView",
            "description_width": ""
          }
        },
        "7c609412623b406f86981dbf3dfd3649": {
          "model_module": "@jupyter-widgets/controls",
          "model_module_version": "1.5.0",
          "model_name": "ProgressStyleModel",
          "state": {
            "_model_module": "@jupyter-widgets/controls",
            "_model_module_version": "1.5.0",
            "_model_name": "ProgressStyleModel",
            "_view_count": null,
            "_view_module": "@jupyter-widgets/base",
            "_view_module_version": "1.2.0",
            "_view_name": "StyleView",
            "bar_color": null,
            "description_width": ""
          }
        },
        "7cdd23ca06e14a00ac654da6db294292": {
          "model_module": "@jupyter-widgets/base",
          "model_module_version": "1.2.0",
          "model_name": "LayoutModel",
          "state": {
            "_model_module": "@jupyter-widgets/base",
            "_model_module_version": "1.2.0",
            "_model_name": "LayoutModel",
            "_view_count": null,
            "_view_module": "@jupyter-widgets/base",
            "_view_module_version": "1.2.0",
            "_view_name": "LayoutView",
            "align_content": null,
            "align_items": null,
            "align_self": null,
            "border": null,
            "bottom": null,
            "display": null,
            "flex": null,
            "flex_flow": null,
            "grid_area": null,
            "grid_auto_columns": null,
            "grid_auto_flow": null,
            "grid_auto_rows": null,
            "grid_column": null,
            "grid_gap": null,
            "grid_row": null,
            "grid_template_areas": null,
            "grid_template_columns": null,
            "grid_template_rows": null,
            "height": null,
            "justify_content": null,
            "justify_items": null,
            "left": null,
            "margin": null,
            "max_height": null,
            "max_width": null,
            "min_height": null,
            "min_width": null,
            "object_fit": null,
            "object_position": null,
            "order": null,
            "overflow": null,
            "overflow_x": null,
            "overflow_y": null,
            "padding": null,
            "right": null,
            "top": null,
            "visibility": null,
            "width": null
          }
        },
        "7f07438b3bf145759381ec90a7099fb4": {
          "model_module": "@jupyter-widgets/controls",
          "model_module_version": "1.5.0",
          "model_name": "HTMLModel",
          "state": {
            "_dom_classes": [],
            "_model_module": "@jupyter-widgets/controls",
            "_model_module_version": "1.5.0",
            "_model_name": "HTMLModel",
            "_view_count": null,
            "_view_module": "@jupyter-widgets/controls",
            "_view_module_version": "1.5.0",
            "_view_name": "HTMLView",
            "description": "",
            "description_tooltip": null,
            "layout": "IPY_MODEL_41e070f378f0475095836ebd45c1ba09",
            "placeholder": "​",
            "style": "IPY_MODEL_bff1cbf4fd32438285339b3e749e5eec",
            "value": "tokenizer_config.json: 100%"
          }
        },
        "80b6a075aa9e4f9baa020fbbab574a02": {
          "model_module": "@jupyter-widgets/controls",
          "model_module_version": "1.5.0",
          "model_name": "ProgressStyleModel",
          "state": {
            "_model_module": "@jupyter-widgets/controls",
            "_model_module_version": "1.5.0",
            "_model_name": "ProgressStyleModel",
            "_view_count": null,
            "_view_module": "@jupyter-widgets/base",
            "_view_module_version": "1.2.0",
            "_view_name": "StyleView",
            "bar_color": null,
            "description_width": ""
          }
        },
        "8519c84bfcb946ea825876cf5d9f53ce": {
          "model_module": "@jupyter-widgets/controls",
          "model_module_version": "1.5.0",
          "model_name": "HTMLModel",
          "state": {
            "_dom_classes": [],
            "_model_module": "@jupyter-widgets/controls",
            "_model_module_version": "1.5.0",
            "_model_name": "HTMLModel",
            "_view_count": null,
            "_view_module": "@jupyter-widgets/controls",
            "_view_module_version": "1.5.0",
            "_view_name": "HTMLView",
            "description": "",
            "description_tooltip": null,
            "layout": "IPY_MODEL_e092685d5f504a4786798b5b7bad3925",
            "placeholder": "​",
            "style": "IPY_MODEL_9533e31cf5024449a58f6ced7c647b33",
            "value": "tokenizer_config.json: 100%"
          }
        },
        "9533e31cf5024449a58f6ced7c647b33": {
          "model_module": "@jupyter-widgets/controls",
          "model_module_version": "1.5.0",
          "model_name": "DescriptionStyleModel",
          "state": {
            "_model_module": "@jupyter-widgets/controls",
            "_model_module_version": "1.5.0",
            "_model_name": "DescriptionStyleModel",
            "_view_count": null,
            "_view_module": "@jupyter-widgets/base",
            "_view_module_version": "1.2.0",
            "_view_name": "StyleView",
            "description_width": ""
          }
        },
        "997206400bf64649bc198af9a103a607": {
          "model_module": "@jupyter-widgets/base",
          "model_module_version": "1.2.0",
          "model_name": "LayoutModel",
          "state": {
            "_model_module": "@jupyter-widgets/base",
            "_model_module_version": "1.2.0",
            "_model_name": "LayoutModel",
            "_view_count": null,
            "_view_module": "@jupyter-widgets/base",
            "_view_module_version": "1.2.0",
            "_view_name": "LayoutView",
            "align_content": null,
            "align_items": null,
            "align_self": null,
            "border": null,
            "bottom": null,
            "display": null,
            "flex": null,
            "flex_flow": null,
            "grid_area": null,
            "grid_auto_columns": null,
            "grid_auto_flow": null,
            "grid_auto_rows": null,
            "grid_column": null,
            "grid_gap": null,
            "grid_row": null,
            "grid_template_areas": null,
            "grid_template_columns": null,
            "grid_template_rows": null,
            "height": null,
            "justify_content": null,
            "justify_items": null,
            "left": null,
            "margin": null,
            "max_height": null,
            "max_width": null,
            "min_height": null,
            "min_width": null,
            "object_fit": null,
            "object_position": null,
            "order": null,
            "overflow": null,
            "overflow_x": null,
            "overflow_y": null,
            "padding": null,
            "right": null,
            "top": null,
            "visibility": null,
            "width": null
          }
        },
        "9adb36a9e95e4b16bd5fcf255ab3d31b": {
          "model_module": "@jupyter-widgets/controls",
          "model_module_version": "1.5.0",
          "model_name": "DescriptionStyleModel",
          "state": {
            "_model_module": "@jupyter-widgets/controls",
            "_model_module_version": "1.5.0",
            "_model_name": "DescriptionStyleModel",
            "_view_count": null,
            "_view_module": "@jupyter-widgets/base",
            "_view_module_version": "1.2.0",
            "_view_name": "StyleView",
            "description_width": ""
          }
        },
        "9b7561270e1b4fbe84f9930fcb77af57": {
          "model_module": "@jupyter-widgets/controls",
          "model_module_version": "1.5.0",
          "model_name": "HTMLModel",
          "state": {
            "_dom_classes": [],
            "_model_module": "@jupyter-widgets/controls",
            "_model_module_version": "1.5.0",
            "_model_name": "HTMLModel",
            "_view_count": null,
            "_view_module": "@jupyter-widgets/controls",
            "_view_module_version": "1.5.0",
            "_view_name": "HTMLView",
            "description": "",
            "description_tooltip": null,
            "layout": "IPY_MODEL_d8438ae67c8c4448a157593e97d1a5e7",
            "placeholder": "​",
            "style": "IPY_MODEL_7b7fe690217a413098fef085a28af285",
            "value": " 760k/760k [00:00&lt;00:00, 3.45MB/s]"
          }
        },
        "9e9a7613aeaf463a818a5137c28510bb": {
          "model_module": "@jupyter-widgets/controls",
          "model_module_version": "1.5.0",
          "model_name": "HTMLModel",
          "state": {
            "_dom_classes": [],
            "_model_module": "@jupyter-widgets/controls",
            "_model_module_version": "1.5.0",
            "_model_name": "HTMLModel",
            "_view_count": null,
            "_view_module": "@jupyter-widgets/controls",
            "_view_module_version": "1.5.0",
            "_view_name": "HTMLView",
            "description": "",
            "description_tooltip": null,
            "layout": "IPY_MODEL_d37450542cb2466a934e9509c68d6859",
            "placeholder": "​",
            "style": "IPY_MODEL_1c3586dff84e4ffc87c2945503b491ba",
            "value": " 47.4M/47.4M [00:00&lt;00:00, 199MB/s]"
          }
        },
        "a1a047bf38f44e0bb2b930a43f229516": {
          "model_module": "@jupyter-widgets/base",
          "model_module_version": "1.2.0",
          "model_name": "LayoutModel",
          "state": {
            "_model_module": "@jupyter-widgets/base",
            "_model_module_version": "1.2.0",
            "_model_name": "LayoutModel",
            "_view_count": null,
            "_view_module": "@jupyter-widgets/base",
            "_view_module_version": "1.2.0",
            "_view_name": "LayoutView",
            "align_content": null,
            "align_items": null,
            "align_self": null,
            "border": null,
            "bottom": null,
            "display": null,
            "flex": null,
            "flex_flow": null,
            "grid_area": null,
            "grid_auto_columns": null,
            "grid_auto_flow": null,
            "grid_auto_rows": null,
            "grid_column": null,
            "grid_gap": null,
            "grid_row": null,
            "grid_template_areas": null,
            "grid_template_columns": null,
            "grid_template_rows": null,
            "height": null,
            "justify_content": null,
            "justify_items": null,
            "left": null,
            "margin": null,
            "max_height": null,
            "max_width": null,
            "min_height": null,
            "min_width": null,
            "object_fit": null,
            "object_position": null,
            "order": null,
            "overflow": null,
            "overflow_x": null,
            "overflow_y": null,
            "padding": null,
            "right": null,
            "top": null,
            "visibility": null,
            "width": null
          }
        },
        "a2977c3af05a422797fbf8d905a33fc6": {
          "model_module": "@jupyter-widgets/base",
          "model_module_version": "1.2.0",
          "model_name": "LayoutModel",
          "state": {
            "_model_module": "@jupyter-widgets/base",
            "_model_module_version": "1.2.0",
            "_model_name": "LayoutModel",
            "_view_count": null,
            "_view_module": "@jupyter-widgets/base",
            "_view_module_version": "1.2.0",
            "_view_name": "LayoutView",
            "align_content": null,
            "align_items": null,
            "align_self": null,
            "border": null,
            "bottom": null,
            "display": null,
            "flex": null,
            "flex_flow": null,
            "grid_area": null,
            "grid_auto_columns": null,
            "grid_auto_flow": null,
            "grid_auto_rows": null,
            "grid_column": null,
            "grid_gap": null,
            "grid_row": null,
            "grid_template_areas": null,
            "grid_template_columns": null,
            "grid_template_rows": null,
            "height": null,
            "justify_content": null,
            "justify_items": null,
            "left": null,
            "margin": null,
            "max_height": null,
            "max_width": null,
            "min_height": null,
            "min_width": null,
            "object_fit": null,
            "object_position": null,
            "order": null,
            "overflow": null,
            "overflow_x": null,
            "overflow_y": null,
            "padding": null,
            "right": null,
            "top": null,
            "visibility": null,
            "width": null
          }
        },
        "a65b0bd1e6464cfdb6a6d8ab8f2a1457": {
          "model_module": "@jupyter-widgets/base",
          "model_module_version": "1.2.0",
          "model_name": "LayoutModel",
          "state": {
            "_model_module": "@jupyter-widgets/base",
            "_model_module_version": "1.2.0",
            "_model_name": "LayoutModel",
            "_view_count": null,
            "_view_module": "@jupyter-widgets/base",
            "_view_module_version": "1.2.0",
            "_view_name": "LayoutView",
            "align_content": null,
            "align_items": null,
            "align_self": null,
            "border": null,
            "bottom": null,
            "display": null,
            "flex": null,
            "flex_flow": null,
            "grid_area": null,
            "grid_auto_columns": null,
            "grid_auto_flow": null,
            "grid_auto_rows": null,
            "grid_column": null,
            "grid_gap": null,
            "grid_row": null,
            "grid_template_areas": null,
            "grid_template_columns": null,
            "grid_template_rows": null,
            "height": null,
            "justify_content": null,
            "justify_items": null,
            "left": null,
            "margin": null,
            "max_height": null,
            "max_width": null,
            "min_height": null,
            "min_width": null,
            "object_fit": null,
            "object_position": null,
            "order": null,
            "overflow": null,
            "overflow_x": null,
            "overflow_y": null,
            "padding": null,
            "right": null,
            "top": null,
            "visibility": null,
            "width": null
          }
        },
        "a87a2b13cf70434cae4f65ab51a58b6d": {
          "model_module": "@jupyter-widgets/controls",
          "model_module_version": "1.5.0",
          "model_name": "HTMLModel",
          "state": {
            "_dom_classes": [],
            "_model_module": "@jupyter-widgets/controls",
            "_model_module_version": "1.5.0",
            "_model_name": "HTMLModel",
            "_view_count": null,
            "_view_module": "@jupyter-widgets/controls",
            "_view_module_version": "1.5.0",
            "_view_name": "HTMLView",
            "description": "",
            "description_tooltip": null,
            "layout": "IPY_MODEL_a1a047bf38f44e0bb2b930a43f229516",
            "placeholder": "​",
            "style": "IPY_MODEL_e43adf5dfc85473bba8846e50f244f37",
            "value": " 25.0/25.0 [00:00&lt;00:00, 2.13kB/s]"
          }
        },
        "af6a420fdcd64a66ba2000162931b940": {
          "model_module": "@jupyter-widgets/controls",
          "model_module_version": "1.5.0",
          "model_name": "HBoxModel",
          "state": {
            "_dom_classes": [],
            "_model_module": "@jupyter-widgets/controls",
            "_model_module_version": "1.5.0",
            "_model_name": "HBoxModel",
            "_view_count": null,
            "_view_module": "@jupyter-widgets/controls",
            "_view_module_version": "1.5.0",
            "_view_name": "HBoxView",
            "box_style": "",
            "children": [
              "IPY_MODEL_b44f565a6c724519a29b812b8e7e1081",
              "IPY_MODEL_60c34173b19a4ca8ba04159f488bf6ef",
              "IPY_MODEL_9e9a7613aeaf463a818a5137c28510bb"
            ],
            "layout": "IPY_MODEL_4e6db9b23886431b89ad873d69a09ba4"
          }
        },
        "b1ee469d37b64460959b278ea1f64464": {
          "model_module": "@jupyter-widgets/controls",
          "model_module_version": "1.5.0",
          "model_name": "FloatProgressModel",
          "state": {
            "_dom_classes": [],
            "_model_module": "@jupyter-widgets/controls",
            "_model_module_version": "1.5.0",
            "_model_name": "FloatProgressModel",
            "_view_count": null,
            "_view_module": "@jupyter-widgets/controls",
            "_view_module_version": "1.5.0",
            "_view_name": "ProgressView",
            "bar_style": "success",
            "description": "",
            "description_tooltip": null,
            "layout": "IPY_MODEL_f1c95bbfa71d493f9281ce13b7560af2",
            "max": 1312669,
            "min": 0,
            "orientation": "horizontal",
            "style": "IPY_MODEL_762d780cf4fe40f2b9c936830ba3ad42",
            "value": 1312669
          }
        },
        "b21448663fa842b593c77b32e71d2e2f": {
          "model_module": "@jupyter-widgets/base",
          "model_module_version": "1.2.0",
          "model_name": "LayoutModel",
          "state": {
            "_model_module": "@jupyter-widgets/base",
            "_model_module_version": "1.2.0",
            "_model_name": "LayoutModel",
            "_view_count": null,
            "_view_module": "@jupyter-widgets/base",
            "_view_module_version": "1.2.0",
            "_view_name": "LayoutView",
            "align_content": null,
            "align_items": null,
            "align_self": null,
            "border": null,
            "bottom": null,
            "display": null,
            "flex": null,
            "flex_flow": null,
            "grid_area": null,
            "grid_auto_columns": null,
            "grid_auto_flow": null,
            "grid_auto_rows": null,
            "grid_column": null,
            "grid_gap": null,
            "grid_row": null,
            "grid_template_areas": null,
            "grid_template_columns": null,
            "grid_template_rows": null,
            "height": null,
            "justify_content": null,
            "justify_items": null,
            "left": null,
            "margin": null,
            "max_height": null,
            "max_width": null,
            "min_height": null,
            "min_width": null,
            "object_fit": null,
            "object_position": null,
            "order": null,
            "overflow": null,
            "overflow_x": null,
            "overflow_y": null,
            "padding": null,
            "right": null,
            "top": null,
            "visibility": null,
            "width": null
          }
        },
        "b44f565a6c724519a29b812b8e7e1081": {
          "model_module": "@jupyter-widgets/controls",
          "model_module_version": "1.5.0",
          "model_name": "HTMLModel",
          "state": {
            "_dom_classes": [],
            "_model_module": "@jupyter-widgets/controls",
            "_model_module_version": "1.5.0",
            "_model_name": "HTMLModel",
            "_view_count": null,
            "_view_module": "@jupyter-widgets/controls",
            "_view_module_version": "1.5.0",
            "_view_name": "HTMLView",
            "description": "",
            "description_tooltip": null,
            "layout": "IPY_MODEL_4ddb5b744db0423697a9c587f96c2cf7",
            "placeholder": "​",
            "style": "IPY_MODEL_507753d9a8584213950d64d5396173fe",
            "value": "model.safetensors: 100%"
          }
        },
        "bb52702b514341f484d53a73adff0de5": {
          "model_module": "@jupyter-widgets/controls",
          "model_module_version": "1.5.0",
          "model_name": "HBoxModel",
          "state": {
            "_dom_classes": [],
            "_model_module": "@jupyter-widgets/controls",
            "_model_module_version": "1.5.0",
            "_model_name": "HBoxModel",
            "_view_count": null,
            "_view_module": "@jupyter-widgets/controls",
            "_view_module_version": "1.5.0",
            "_view_name": "HBoxView",
            "box_style": "",
            "children": [
              "IPY_MODEL_33c42244f82f47029b2ce2dbfadda887",
              "IPY_MODEL_6a5b712918594ec7ae2cf6e97eb7551d",
              "IPY_MODEL_2822bbc57b0b4748836148463e8e7dbc"
            ],
            "layout": "IPY_MODEL_d5264ee60e4d49eaac7733a967f731a1"
          }
        },
        "bff1cbf4fd32438285339b3e749e5eec": {
          "model_module": "@jupyter-widgets/controls",
          "model_module_version": "1.5.0",
          "model_name": "DescriptionStyleModel",
          "state": {
            "_model_module": "@jupyter-widgets/controls",
            "_model_module_version": "1.5.0",
            "_model_name": "DescriptionStyleModel",
            "_view_count": null,
            "_view_module": "@jupyter-widgets/base",
            "_view_module_version": "1.2.0",
            "_view_name": "StyleView",
            "description_width": ""
          }
        },
        "c726a7255d284ff282075d15b7acfbff": {
          "model_module": "@jupyter-widgets/controls",
          "model_module_version": "1.5.0",
          "model_name": "DescriptionStyleModel",
          "state": {
            "_model_module": "@jupyter-widgets/controls",
            "_model_module_version": "1.5.0",
            "_model_name": "DescriptionStyleModel",
            "_view_count": null,
            "_view_module": "@jupyter-widgets/base",
            "_view_module_version": "1.2.0",
            "_view_name": "StyleView",
            "description_width": ""
          }
        },
        "d37450542cb2466a934e9509c68d6859": {
          "model_module": "@jupyter-widgets/base",
          "model_module_version": "1.2.0",
          "model_name": "LayoutModel",
          "state": {
            "_model_module": "@jupyter-widgets/base",
            "_model_module_version": "1.2.0",
            "_model_name": "LayoutModel",
            "_view_count": null,
            "_view_module": "@jupyter-widgets/base",
            "_view_module_version": "1.2.0",
            "_view_name": "LayoutView",
            "align_content": null,
            "align_items": null,
            "align_self": null,
            "border": null,
            "bottom": null,
            "display": null,
            "flex": null,
            "flex_flow": null,
            "grid_area": null,
            "grid_auto_columns": null,
            "grid_auto_flow": null,
            "grid_auto_rows": null,
            "grid_column": null,
            "grid_gap": null,
            "grid_row": null,
            "grid_template_areas": null,
            "grid_template_columns": null,
            "grid_template_rows": null,
            "height": null,
            "justify_content": null,
            "justify_items": null,
            "left": null,
            "margin": null,
            "max_height": null,
            "max_width": null,
            "min_height": null,
            "min_width": null,
            "object_fit": null,
            "object_position": null,
            "order": null,
            "overflow": null,
            "overflow_x": null,
            "overflow_y": null,
            "padding": null,
            "right": null,
            "top": null,
            "visibility": null,
            "width": null
          }
        },
        "d5264ee60e4d49eaac7733a967f731a1": {
          "model_module": "@jupyter-widgets/base",
          "model_module_version": "1.2.0",
          "model_name": "LayoutModel",
          "state": {
            "_model_module": "@jupyter-widgets/base",
            "_model_module_version": "1.2.0",
            "_model_name": "LayoutModel",
            "_view_count": null,
            "_view_module": "@jupyter-widgets/base",
            "_view_module_version": "1.2.0",
            "_view_name": "LayoutView",
            "align_content": null,
            "align_items": null,
            "align_self": null,
            "border": null,
            "bottom": null,
            "display": null,
            "flex": null,
            "flex_flow": null,
            "grid_area": null,
            "grid_auto_columns": null,
            "grid_auto_flow": null,
            "grid_auto_rows": null,
            "grid_column": null,
            "grid_gap": null,
            "grid_row": null,
            "grid_template_areas": null,
            "grid_template_columns": null,
            "grid_template_rows": null,
            "height": null,
            "justify_content": null,
            "justify_items": null,
            "left": null,
            "margin": null,
            "max_height": null,
            "max_width": null,
            "min_height": null,
            "min_width": null,
            "object_fit": null,
            "object_position": null,
            "order": null,
            "overflow": null,
            "overflow_x": null,
            "overflow_y": null,
            "padding": null,
            "right": null,
            "top": null,
            "visibility": null,
            "width": null
          }
        },
        "d8438ae67c8c4448a157593e97d1a5e7": {
          "model_module": "@jupyter-widgets/base",
          "model_module_version": "1.2.0",
          "model_name": "LayoutModel",
          "state": {
            "_model_module": "@jupyter-widgets/base",
            "_model_module_version": "1.2.0",
            "_model_name": "LayoutModel",
            "_view_count": null,
            "_view_module": "@jupyter-widgets/base",
            "_view_module_version": "1.2.0",
            "_view_name": "LayoutView",
            "align_content": null,
            "align_items": null,
            "align_self": null,
            "border": null,
            "bottom": null,
            "display": null,
            "flex": null,
            "flex_flow": null,
            "grid_area": null,
            "grid_auto_columns": null,
            "grid_auto_flow": null,
            "grid_auto_rows": null,
            "grid_column": null,
            "grid_gap": null,
            "grid_row": null,
            "grid_template_areas": null,
            "grid_template_columns": null,
            "grid_template_rows": null,
            "height": null,
            "justify_content": null,
            "justify_items": null,
            "left": null,
            "margin": null,
            "max_height": null,
            "max_width": null,
            "min_height": null,
            "min_width": null,
            "object_fit": null,
            "object_position": null,
            "order": null,
            "overflow": null,
            "overflow_x": null,
            "overflow_y": null,
            "padding": null,
            "right": null,
            "top": null,
            "visibility": null,
            "width": null
          }
        },
        "da43c8d61a2d4e3e8c9ac38077538c3f": {
          "model_module": "@jupyter-widgets/controls",
          "model_module_version": "1.5.0",
          "model_name": "HTMLModel",
          "state": {
            "_dom_classes": [],
            "_model_module": "@jupyter-widgets/controls",
            "_model_module_version": "1.5.0",
            "_model_name": "HTMLModel",
            "_view_count": null,
            "_view_module": "@jupyter-widgets/controls",
            "_view_module_version": "1.5.0",
            "_view_name": "HTMLView",
            "description": "",
            "description_tooltip": null,
            "layout": "IPY_MODEL_997206400bf64649bc198af9a103a607",
            "placeholder": "​",
            "style": "IPY_MODEL_c726a7255d284ff282075d15b7acfbff",
            "value": "tokenizer.json: 100%"
          }
        },
        "db6f12a123234bbdaa7d9f515652226e": {
          "model_module": "@jupyter-widgets/base",
          "model_module_version": "1.2.0",
          "model_name": "LayoutModel",
          "state": {
            "_model_module": "@jupyter-widgets/base",
            "_model_module_version": "1.2.0",
            "_model_name": "LayoutModel",
            "_view_count": null,
            "_view_module": "@jupyter-widgets/base",
            "_view_module_version": "1.2.0",
            "_view_name": "LayoutView",
            "align_content": null,
            "align_items": null,
            "align_self": null,
            "border": null,
            "bottom": null,
            "display": null,
            "flex": null,
            "flex_flow": null,
            "grid_area": null,
            "grid_auto_columns": null,
            "grid_auto_flow": null,
            "grid_auto_rows": null,
            "grid_column": null,
            "grid_gap": null,
            "grid_row": null,
            "grid_template_areas": null,
            "grid_template_columns": null,
            "grid_template_rows": null,
            "height": null,
            "justify_content": null,
            "justify_items": null,
            "left": null,
            "margin": null,
            "max_height": null,
            "max_width": null,
            "min_height": null,
            "min_width": null,
            "object_fit": null,
            "object_position": null,
            "order": null,
            "overflow": null,
            "overflow_x": null,
            "overflow_y": null,
            "padding": null,
            "right": null,
            "top": null,
            "visibility": null,
            "width": null
          }
        },
        "e092685d5f504a4786798b5b7bad3925": {
          "model_module": "@jupyter-widgets/base",
          "model_module_version": "1.2.0",
          "model_name": "LayoutModel",
          "state": {
            "_model_module": "@jupyter-widgets/base",
            "_model_module_version": "1.2.0",
            "_model_name": "LayoutModel",
            "_view_count": null,
            "_view_module": "@jupyter-widgets/base",
            "_view_module_version": "1.2.0",
            "_view_name": "LayoutView",
            "align_content": null,
            "align_items": null,
            "align_self": null,
            "border": null,
            "bottom": null,
            "display": null,
            "flex": null,
            "flex_flow": null,
            "grid_area": null,
            "grid_auto_columns": null,
            "grid_auto_flow": null,
            "grid_auto_rows": null,
            "grid_column": null,
            "grid_gap": null,
            "grid_row": null,
            "grid_template_areas": null,
            "grid_template_columns": null,
            "grid_template_rows": null,
            "height": null,
            "justify_content": null,
            "justify_items": null,
            "left": null,
            "margin": null,
            "max_height": null,
            "max_width": null,
            "min_height": null,
            "min_width": null,
            "object_fit": null,
            "object_position": null,
            "order": null,
            "overflow": null,
            "overflow_x": null,
            "overflow_y": null,
            "padding": null,
            "right": null,
            "top": null,
            "visibility": null,
            "width": null
          }
        },
        "e0c47a5cb89c4391a3a5d65b9d22d065": {
          "model_module": "@jupyter-widgets/base",
          "model_module_version": "1.2.0",
          "model_name": "LayoutModel",
          "state": {
            "_model_module": "@jupyter-widgets/base",
            "_model_module_version": "1.2.0",
            "_model_name": "LayoutModel",
            "_view_count": null,
            "_view_module": "@jupyter-widgets/base",
            "_view_module_version": "1.2.0",
            "_view_name": "LayoutView",
            "align_content": null,
            "align_items": null,
            "align_self": null,
            "border": null,
            "bottom": null,
            "display": null,
            "flex": null,
            "flex_flow": null,
            "grid_area": null,
            "grid_auto_columns": null,
            "grid_auto_flow": null,
            "grid_auto_rows": null,
            "grid_column": null,
            "grid_gap": null,
            "grid_row": null,
            "grid_template_areas": null,
            "grid_template_columns": null,
            "grid_template_rows": null,
            "height": null,
            "justify_content": null,
            "justify_items": null,
            "left": null,
            "margin": null,
            "max_height": null,
            "max_width": null,
            "min_height": null,
            "min_width": null,
            "object_fit": null,
            "object_position": null,
            "order": null,
            "overflow": null,
            "overflow_x": null,
            "overflow_y": null,
            "padding": null,
            "right": null,
            "top": null,
            "visibility": null,
            "width": null
          }
        },
        "e31acb7c99d34ecc99ad209be08430cf": {
          "model_module": "@jupyter-widgets/base",
          "model_module_version": "1.2.0",
          "model_name": "LayoutModel",
          "state": {
            "_model_module": "@jupyter-widgets/base",
            "_model_module_version": "1.2.0",
            "_model_name": "LayoutModel",
            "_view_count": null,
            "_view_module": "@jupyter-widgets/base",
            "_view_module_version": "1.2.0",
            "_view_name": "LayoutView",
            "align_content": null,
            "align_items": null,
            "align_self": null,
            "border": null,
            "bottom": null,
            "display": null,
            "flex": null,
            "flex_flow": null,
            "grid_area": null,
            "grid_auto_columns": null,
            "grid_auto_flow": null,
            "grid_auto_rows": null,
            "grid_column": null,
            "grid_gap": null,
            "grid_row": null,
            "grid_template_areas": null,
            "grid_template_columns": null,
            "grid_template_rows": null,
            "height": null,
            "justify_content": null,
            "justify_items": null,
            "left": null,
            "margin": null,
            "max_height": null,
            "max_width": null,
            "min_height": null,
            "min_width": null,
            "object_fit": null,
            "object_position": null,
            "order": null,
            "overflow": null,
            "overflow_x": null,
            "overflow_y": null,
            "padding": null,
            "right": null,
            "top": null,
            "visibility": null,
            "width": null
          }
        },
        "e43adf5dfc85473bba8846e50f244f37": {
          "model_module": "@jupyter-widgets/controls",
          "model_module_version": "1.5.0",
          "model_name": "DescriptionStyleModel",
          "state": {
            "_model_module": "@jupyter-widgets/controls",
            "_model_module_version": "1.5.0",
            "_model_name": "DescriptionStyleModel",
            "_view_count": null,
            "_view_module": "@jupyter-widgets/base",
            "_view_module_version": "1.2.0",
            "_view_name": "StyleView",
            "description_width": ""
          }
        },
        "e4e3d7dccc4b4c6589532d5bde698f61": {
          "model_module": "@jupyter-widgets/controls",
          "model_module_version": "1.5.0",
          "model_name": "HTMLModel",
          "state": {
            "_dom_classes": [],
            "_model_module": "@jupyter-widgets/controls",
            "_model_module_version": "1.5.0",
            "_model_name": "HTMLModel",
            "_view_count": null,
            "_view_module": "@jupyter-widgets/controls",
            "_view_module_version": "1.5.0",
            "_view_name": "HTMLView",
            "description": "",
            "description_tooltip": null,
            "layout": "IPY_MODEL_1aad5056d2f24f009b8112582bfc2337",
            "placeholder": "​",
            "style": "IPY_MODEL_39cc3be155a846a49a4c0f6fc56a1117",
            "value": " 1.31M/1.31M [00:00&lt;00:00, 5.94MB/s]"
          }
        },
        "e79adcf4664e4542b7630a8615f0ef4e": {
          "model_module": "@jupyter-widgets/controls",
          "model_module_version": "1.5.0",
          "model_name": "DescriptionStyleModel",
          "state": {
            "_model_module": "@jupyter-widgets/controls",
            "_model_module_version": "1.5.0",
            "_model_name": "DescriptionStyleModel",
            "_view_count": null,
            "_view_module": "@jupyter-widgets/base",
            "_view_module_version": "1.2.0",
            "_view_name": "StyleView",
            "description_width": ""
          }
        },
        "f1c95bbfa71d493f9281ce13b7560af2": {
          "model_module": "@jupyter-widgets/base",
          "model_module_version": "1.2.0",
          "model_name": "LayoutModel",
          "state": {
            "_model_module": "@jupyter-widgets/base",
            "_model_module_version": "1.2.0",
            "_model_name": "LayoutModel",
            "_view_count": null,
            "_view_module": "@jupyter-widgets/base",
            "_view_module_version": "1.2.0",
            "_view_name": "LayoutView",
            "align_content": null,
            "align_items": null,
            "align_self": null,
            "border": null,
            "bottom": null,
            "display": null,
            "flex": null,
            "flex_flow": null,
            "grid_area": null,
            "grid_auto_columns": null,
            "grid_auto_flow": null,
            "grid_auto_rows": null,
            "grid_column": null,
            "grid_gap": null,
            "grid_row": null,
            "grid_template_areas": null,
            "grid_template_columns": null,
            "grid_template_rows": null,
            "height": null,
            "justify_content": null,
            "justify_items": null,
            "left": null,
            "margin": null,
            "max_height": null,
            "max_width": null,
            "min_height": null,
            "min_width": null,
            "object_fit": null,
            "object_position": null,
            "order": null,
            "overflow": null,
            "overflow_x": null,
            "overflow_y": null,
            "padding": null,
            "right": null,
            "top": null,
            "visibility": null,
            "width": null
          }
        },
        "ff44aff592654e8b9e9a5bce151e5a91": {
          "model_module": "@jupyter-widgets/controls",
          "model_module_version": "1.5.0",
          "model_name": "HBoxModel",
          "state": {
            "_dom_classes": [],
            "_model_module": "@jupyter-widgets/controls",
            "_model_module_version": "1.5.0",
            "_model_name": "HBoxModel",
            "_view_count": null,
            "_view_module": "@jupyter-widgets/controls",
            "_view_module_version": "1.5.0",
            "_view_name": "HBoxView",
            "box_style": "",
            "children": [
              "IPY_MODEL_8519c84bfcb946ea825876cf5d9f53ce",
              "IPY_MODEL_011dea374ce44a22a7fa8af82f4b86be",
              "IPY_MODEL_a87a2b13cf70434cae4f65ab51a58b6d"
            ],
            "layout": "IPY_MODEL_34820bb34d4b402c8744ee74dfef3736"
          }
        }
      }
    }
  },
  "nbformat": 4,
  "nbformat_minor": 0
}
